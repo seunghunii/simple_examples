{
 "cells": [
  {
   "cell_type": "code",
   "execution_count": 49,
   "metadata": {
    "ExecuteTime": {
     "end_time": "2020-12-21T11:32:48.047931Z",
     "start_time": "2020-12-21T11:32:48.029939Z"
    }
   },
   "outputs": [],
   "source": [
    "import requests\n",
    "import json"
   ]
  },
  {
   "cell_type": "code",
   "execution_count": 55,
   "metadata": {
    "ExecuteTime": {
     "end_time": "2020-12-21T12:48:35.427409Z",
     "start_time": "2020-12-21T12:48:35.411469Z"
    }
   },
   "outputs": [
    {
     "data": {
      "text/plain": [
       "'https://dapi.kakao.com/v2/local/geo/coord2regioncode.json?x=126.176746&y=33.30509&input_coord=WGS84'"
      ]
     },
     "execution_count": 55,
     "metadata": {},
     "output_type": "execute_result"
    }
   ],
   "source": [
    "x_val = 126.176746\n",
    "y_val = 33.305090\n",
    "base_url = 'https://dapi.kakao.com/v2/local/geo/coord2regioncode.json?x='+str(x_val)+'&y='+str(y_val)+'&input_coord=WGS84'\n",
    "base_url"
   ]
  },
  {
   "cell_type": "code",
   "execution_count": 56,
   "metadata": {
    "ExecuteTime": {
     "end_time": "2020-12-21T12:49:36.666788Z",
     "start_time": "2020-12-21T12:49:36.659808Z"
    }
   },
   "outputs": [
    {
     "data": {
      "text/plain": [
       "{'Authorization': 'KakaoAK your_api_key'}"
      ]
     },
     "execution_count": 56,
     "metadata": {},
     "output_type": "execute_result"
    }
   ],
   "source": [
    "your_api_key = 'your_api_key'\n",
    "headers = {'Authorization':'KakaoAK '+your_api_key}\n",
    "headers"
   ]
  },
  {
   "cell_type": "code",
   "execution_count": 53,
   "metadata": {
    "ExecuteTime": {
     "end_time": "2020-12-21T11:32:54.615181Z",
     "start_time": "2020-12-21T11:32:54.513454Z"
    }
   },
   "outputs": [
    {
     "data": {
      "text/plain": [
       "<Response [200]>"
      ]
     },
     "execution_count": 53,
     "metadata": {},
     "output_type": "execute_result"
    }
   ],
   "source": [
    "api_req = requests.get(base_url,headers=headers)\n",
    "api_req"
   ]
  },
  {
   "cell_type": "code",
   "execution_count": 54,
   "metadata": {
    "ExecuteTime": {
     "end_time": "2020-12-21T11:32:55.455628Z",
     "start_time": "2020-12-21T11:32:55.433687Z"
    }
   },
   "outputs": [
    {
     "data": {
      "text/plain": [
       "{'meta': {'total_count': 2},\n",
       " 'documents': [{'region_type': 'B',\n",
       "   'code': '5011031023',\n",
       "   'address_name': '제주특별자치도 제주시 한경면 고산리',\n",
       "   'region_1depth_name': '제주특별자치도',\n",
       "   'region_2depth_name': '제주시',\n",
       "   'region_3depth_name': '한경면',\n",
       "   'region_4depth_name': '고산리',\n",
       "   'x': 126.18203028380402,\n",
       "   'y': 33.29722725544281},\n",
       "  {'region_type': 'H',\n",
       "   'code': '5011031000',\n",
       "   'address_name': '제주특별자치도 제주시 한경면',\n",
       "   'region_1depth_name': '제주특별자치도',\n",
       "   'region_2depth_name': '제주시',\n",
       "   'region_3depth_name': '한경면',\n",
       "   'region_4depth_name': '',\n",
       "   'x': 126.18415707698696,\n",
       "   'y': 33.35013231995938}]}"
      ]
     },
     "execution_count": 54,
     "metadata": {},
     "output_type": "execute_result"
    }
   ],
   "source": [
    "json.loads(api_req.text)"
   ]
  }
 ],
 "metadata": {
  "kernelspec": {
   "display_name": "simon_env",
   "language": "python",
   "name": "simon_env"
  },
  "language_info": {
   "codemirror_mode": {
    "name": "ipython",
    "version": 3
   },
   "file_extension": ".py",
   "mimetype": "text/x-python",
   "name": "python",
   "nbconvert_exporter": "python",
   "pygments_lexer": "ipython3",
   "version": "3.8.3"
  },
  "toc": {
   "base_numbering": 1,
   "nav_menu": {},
   "number_sections": true,
   "sideBar": true,
   "skip_h1_title": false,
   "title_cell": "Table of Contents",
   "title_sidebar": "Contents",
   "toc_cell": false,
   "toc_position": {},
   "toc_section_display": true,
   "toc_window_display": false
  },
  "varInspector": {
   "cols": {
    "lenName": 16,
    "lenType": 16,
    "lenVar": 40
   },
   "kernels_config": {
    "python": {
     "delete_cmd_postfix": "",
     "delete_cmd_prefix": "del ",
     "library": "var_list.py",
     "varRefreshCmd": "print(var_dic_list())"
    },
    "r": {
     "delete_cmd_postfix": ") ",
     "delete_cmd_prefix": "rm(",
     "library": "var_list.r",
     "varRefreshCmd": "cat(var_dic_list()) "
    }
   },
   "types_to_exclude": [
    "module",
    "function",
    "builtin_function_or_method",
    "instance",
    "_Feature"
   ],
   "window_display": false
  }
 },
 "nbformat": 4,
 "nbformat_minor": 4
}
