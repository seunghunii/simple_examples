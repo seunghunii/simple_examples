{
 "cells": [
  {
   "cell_type": "markdown",
   "metadata": {},
   "source": [
    "# Build hypothesis and cost"
   ]
  },
  {
   "cell_type": "code",
   "execution_count": 2,
   "metadata": {
    "ExecuteTime": {
     "end_time": "2021-02-09T03:32:09.938884Z",
     "start_time": "2021-02-09T03:31:53.245514Z"
    }
   },
   "outputs": [],
   "source": [
    "import tensorflow as tf\n",
    "tf.enable_eager_execution() # 즉시실행 활성화"
   ]
  },
  {
   "cell_type": "markdown",
   "metadata": {},
   "source": [
    "<a href=\"https://www.codecogs.com/eqnedit.php?latex=H(x)=Wx&plus;b\" target=\"_blank\"><img src=\"https://latex.codecogs.com/gif.latex?H(x)=Wx&plus;b\" title=\"H(x)=Wx+b\" /></a>"
   ]
  },
  {
   "cell_type": "code",
   "execution_count": 1,
   "metadata": {
    "ExecuteTime": {
     "end_time": "2021-02-09T03:31:37.532467Z",
     "start_time": "2021-02-09T03:31:37.518507Z"
    }
   },
   "outputs": [],
   "source": [
    "x_data = [1,2,3,4,5]\n",
    "y_data = [1,2,3,4,5]"
   ]
  },
  {
   "cell_type": "code",
   "execution_count": 3,
   "metadata": {
    "ExecuteTime": {
     "end_time": "2021-02-09T03:32:26.569549Z",
     "start_time": "2021-02-09T03:32:26.481772Z"
    }
   },
   "outputs": [],
   "source": [
    "W = tf.Variable(2.9)\n",
    "b = tf.Variable(0.5)"
   ]
  },
  {
   "cell_type": "code",
   "execution_count": 4,
   "metadata": {
    "ExecuteTime": {
     "end_time": "2021-02-09T03:32:47.905085Z",
     "start_time": "2021-02-09T03:32:47.897106Z"
    }
   },
   "outputs": [],
   "source": [
    "# hypothesis = Wx + b\n",
    "hypothesis = W * x_data + b"
   ]
  },
  {
   "cell_type": "markdown",
   "metadata": {},
   "source": [
    "<a href=\"https://www.codecogs.com/eqnedit.php?latex=Cost(W,b)=\\frac{1}{m}\\sum_{i=1}^{m}(H(x_i)-y_i)\" target=\"_blank\"><img src=\"https://latex.codecogs.com/gif.latex?Cost(W,b)=\\frac{1}{m}\\sum_{i=1}^{m}(H(x_i)-y_i)\" title=\"Cost(W,b)=\\frac{1}{m}\\sum_{i=1}^{m}(H(x_i)-y_i)\" /></a>"
   ]
  },
  {
   "cell_type": "code",
   "execution_count": 7,
   "metadata": {
    "ExecuteTime": {
     "end_time": "2021-02-09T03:34:09.467607Z",
     "start_time": "2021-02-09T03:34:09.455597Z"
    }
   },
   "outputs": [],
   "source": [
    "cost = tf.reduce_mean(tf.square(hypothesis - y_data)) # error제곱의 평균을 최소화한다."
   ]
  },
  {
   "cell_type": "code",
   "execution_count": 9,
   "metadata": {
    "ExecuteTime": {
     "end_time": "2021-02-09T03:35:58.490903Z",
     "start_time": "2021-02-09T03:35:58.466967Z"
    }
   },
   "outputs": [
    {
     "data": {
      "text/plain": [
       "<tf.Tensor: shape=(), dtype=float32, numpy=2.5>"
      ]
     },
     "execution_count": 9,
     "metadata": {},
     "output_type": "execute_result"
    }
   ],
   "source": [
    "# reduce_mean() 차원, rank가 하나 줄어들면서 평균을 구함.\n",
    "v = [1.,2.,3.,4.] # rank 1\n",
    "tf.reduce_mean(v) # rank 0"
   ]
  },
  {
   "cell_type": "code",
   "execution_count": 10,
   "metadata": {
    "ExecuteTime": {
     "end_time": "2021-02-09T03:36:29.042083Z",
     "start_time": "2021-02-09T03:36:29.025325Z"
    }
   },
   "outputs": [
    {
     "data": {
      "text/plain": [
       "<tf.Tensor: shape=(), dtype=int32, numpy=9>"
      ]
     },
     "execution_count": 10,
     "metadata": {},
     "output_type": "execute_result"
    }
   ],
   "source": [
    "# square\n",
    "tf.square(3)"
   ]
  },
  {
   "cell_type": "markdown",
   "metadata": {},
   "source": [
    "# Gradient Descent"
   ]
  },
  {
   "cell_type": "markdown",
   "metadata": {},
   "source": [
    "To minimize cost (W,b)"
   ]
  },
  {
   "cell_type": "code",
   "execution_count": 11,
   "metadata": {
    "ExecuteTime": {
     "end_time": "2021-02-09T03:37:50.284376Z",
     "start_time": "2021-02-09T03:37:50.280381Z"
    }
   },
   "outputs": [],
   "source": [
    "# learning rate initialize\n",
    "learning_rate = 0.01"
   ]
  },
  {
   "cell_type": "code",
   "execution_count": 15,
   "metadata": {
    "ExecuteTime": {
     "end_time": "2021-02-09T03:39:13.730814Z",
     "start_time": "2021-02-09T03:39:13.710872Z"
    }
   },
   "outputs": [],
   "source": [
    "# gradient descent\n",
    "with tf.GradientTape() as tape:\n",
    "    hypothesis = W * x_data + b\n",
    "    cost = tf.reduce_mean(tf.square(hypothesis - y_data))"
   ]
  },
  {
   "cell_type": "code",
   "execution_count": 16,
   "metadata": {
    "ExecuteTime": {
     "end_time": "2021-02-09T03:39:14.585337Z",
     "start_time": "2021-02-09T03:39:14.577359Z"
    }
   },
   "outputs": [],
   "source": [
    "# 기울기를 구히고\n",
    "W_grad, b_grad = tape.gradient(cost,[W,b])"
   ]
  },
  {
   "cell_type": "code",
   "execution_count": 17,
   "metadata": {
    "ExecuteTime": {
     "end_time": "2021-02-09T03:39:38.231113Z",
     "start_time": "2021-02-09T03:39:38.211170Z"
    }
   },
   "outputs": [
    {
     "data": {
      "text/plain": [
       "<tf.Variable 'UnreadVariable' shape=() dtype=float32, numpy=0.376>"
      ]
     },
     "execution_count": 17,
     "metadata": {},
     "output_type": "execute_result"
    }
   ],
   "source": [
    "# 값을 업데이트 해준다.\n",
    "W.assign_sub(learning_rate * W_grad)\n",
    "b.assign_sub(learning_rate * b_grad)"
   ]
  },
  {
   "cell_type": "code",
   "execution_count": 18,
   "metadata": {
    "ExecuteTime": {
     "end_time": "2021-02-09T03:40:08.507938Z",
     "start_time": "2021-02-09T03:40:08.490976Z"
    }
   },
   "outputs": [],
   "source": [
    "# A.assign_sub(B)\n",
    "# A = A - B\n",
    "# A -= B"
   ]
  },
  {
   "cell_type": "code",
   "execution_count": 25,
   "metadata": {
    "ExecuteTime": {
     "end_time": "2021-02-09T04:02:11.447920Z",
     "start_time": "2021-02-09T04:02:11.435950Z"
    }
   },
   "outputs": [],
   "source": [
    "W = tf.Variable(2.9)\n",
    "b = tf.Variable(0.5)"
   ]
  },
  {
   "cell_type": "code",
   "execution_count": 26,
   "metadata": {
    "ExecuteTime": {
     "end_time": "2021-02-09T04:02:12.341152Z",
     "start_time": "2021-02-09T04:02:12.041965Z"
    }
   },
   "outputs": [
    {
     "name": "stdout",
     "output_type": "stream",
     "text": [
      "    0|     2.452|     0.376| 45.660004\n",
      "   10|     1.104|  0.003398|  0.206336\n",
      "   20|     1.013|  -0.02091|  0.001026\n",
      "   30|     1.007|  -0.02184|  0.000093\n",
      "   40|     1.006|  -0.02123|  0.000083\n",
      "   50|     1.006|  -0.02053|  0.000077\n",
      "   60|     1.005|  -0.01984|  0.000072\n",
      "   70|     1.005|  -0.01918|  0.000067\n",
      "   80|     1.005|  -0.01854|  0.000063\n",
      "   90|     1.005|  -0.01793|  0.000059\n",
      "  100|     1.005|  -0.01733|  0.000055\n"
     ]
    }
   ],
   "source": [
    "for i in range(100+1):\n",
    "    # gradient descent\n",
    "    with tf.GradientTape() as tape:\n",
    "        hypothesis = W * x_data + b\n",
    "        cost = tf.reduce_mean(tf.square(hypothesis - y_data))\n",
    "        \n",
    "    W_grad, b_grad = tape.gradient(cost,[W,b])\n",
    "    \n",
    "    W.assign_sub(learning_rate * W_grad)\n",
    "    b.assign_sub(learning_rate * b_grad)\n",
    "    \n",
    "    if i % 10 == 0:\n",
    "        print('{:5}|{:10.4}|{:10.4}|{:10.6f}'.format(i,W.numpy(),b.numpy(),cost))"
   ]
  },
  {
   "cell_type": "markdown",
   "metadata": {},
   "source": [
    "# Full Code"
   ]
  },
  {
   "cell_type": "code",
   "execution_count": 102,
   "metadata": {
    "ExecuteTime": {
     "end_time": "2021-02-09T08:46:36.719373Z",
     "start_time": "2021-02-09T08:46:36.496957Z"
    }
   },
   "outputs": [
    {
     "name": "stdout",
     "output_type": "stream",
     "text": [
      "    0|     2.452|     0.376| 45.660004\n",
      "   10|     1.104|  0.003398|  0.206336\n",
      "   20|     1.013|  -0.02091|  0.001026\n",
      "   30|     1.007|  -0.02184|  0.000093\n",
      "   40|     1.006|  -0.02123|  0.000083\n",
      "   50|     1.006|  -0.02053|  0.000077\n",
      "   60|     1.005|  -0.01984|  0.000072\n",
      "   70|     1.005|  -0.01918|  0.000067\n",
      "   80|     1.005|  -0.01854|  0.000063\n",
      "   90|     1.005|  -0.01793|  0.000059\n",
      "  100|     1.005|  -0.01733|  0.000055\n"
     ]
    }
   ],
   "source": [
    "# Data\n",
    "my_x = [1,2,3,4,5]\n",
    "my_y = [1,2,3,4,5]\n",
    "\n",
    "# learning_rate\n",
    "new_learn = 0.01\n",
    "\n",
    "# W,b\n",
    "my_W = tf.Variable(2.9)\n",
    "my_b = tf.Variable(0.5)\n",
    "\n",
    "result_list = []\n",
    "for k in range(100+1):\n",
    "    with tf.GradientTape() as tape:\n",
    "        new_hypothesis = my_W * my_x + my_b\n",
    "        new_cost = tf.reduce_mean(tf.square(new_hypothesis - my_y))\n",
    "    my_W_grad, my_b_grad = tape.gradient(new_cost,[my_W,my_b])\n",
    "    my_W.assign_sub(new_learn * my_W_grad)\n",
    "    my_b.assign_sub(new_learn * my_b_grad)\n",
    "    \n",
    "    if k % 10 == 0:\n",
    "        print('{:5}|{:10.4}|{:10.4}|{:10.6f}'.format(k,my_W.numpy(),my_b.numpy(),new_cost))\n",
    "        result_list.append([round(my_W.numpy().astype('float64'),5),\n",
    "                            round(my_b.numpy().astype('float64'),5)])"
   ]
  },
  {
   "cell_type": "markdown",
   "metadata": {},
   "source": [
    "# Comparison"
   ]
  },
  {
   "cell_type": "code",
   "execution_count": 103,
   "metadata": {
    "ExecuteTime": {
     "end_time": "2021-02-09T08:46:40.748014Z",
     "start_time": "2021-02-09T08:46:40.737050Z"
    }
   },
   "outputs": [],
   "source": [
    "import matplotlib.pyplot as plt\n",
    "import seaborn as sns\n",
    "sns.set_style('darkgrid')"
   ]
  },
  {
   "cell_type": "code",
   "execution_count": 105,
   "metadata": {
    "ExecuteTime": {
     "end_time": "2021-02-09T08:46:56.357894Z",
     "start_time": "2021-02-09T08:46:55.811358Z"
    }
   },
   "outputs": [
    {
     "data": {
      "text/plain": [
       "Text(0.5, 1.0, 'k=100(W=1.0048, b=-0.0173)')"
      ]
     },
     "execution_count": 105,
     "metadata": {},
     "output_type": "execute_result"
    },
    {
     "data": {
      "image/png": "[encoded data removed]",
      "text/plain": [
       "<Figure size 1296x576 with 2 Axes>"
      ]
     },
     "metadata": {},
     "output_type": "display_data"
    }
   ],
   "source": [
    "fig,ax = plt.subplots(1,2,figsize=(18,8))\n",
    "\n",
    "# small epoch\n",
    "small_slope = result_list[0]\n",
    "\n",
    "small_data=[]\n",
    "for k in x_data:\n",
    "    small_data.append(k*small_slope[0] + small_slope[1])\n",
    "\n",
    "sns.scatterplot(x=x_data,y=y_data,ax=ax[0])\n",
    "sns.lineplot(x=x_data,y=small_data,ax=ax[0],color='red')\n",
    "ax[0].set_ylim(0,8)\n",
    "ax[0].set_title('k=0(W={:0.4f}, b={:0.4f})'.format(small_slope[0],small_slope[1]),fontsize=15)\n",
    "\n",
    "# large epoch\n",
    "large_slope = result_list[10]\n",
    "\n",
    "large_data=[]\n",
    "for k in x_data:\n",
    "    large_data.append(k*large_slope[0] + large_slope[1])\n",
    "\n",
    "sns.scatterplot(x=x_data,y=y_data,ax=ax[1])\n",
    "sns.lineplot(x=x_data,y=large_data,ax=ax[1],color='red')\n",
    "ax[1].set_ylim(0,8)\n",
    "ax[1].set_title('k=100(W={:0.4f}, b={:0.4f})'.format(large_slope[0],large_slope[1]),fontsize=15)"
   ]
  },
  {
   "cell_type": "markdown",
   "metadata": {},
   "source": [
    "# With new data"
   ]
  },
  {
   "cell_type": "code",
   "execution_count": 107,
   "metadata": {
    "ExecuteTime": {
     "end_time": "2021-02-09T08:50:49.188007Z",
     "start_time": "2021-02-09T08:50:49.166070Z"
    }
   },
   "outputs": [
    {
     "name": "stdout",
     "output_type": "stream",
     "text": [
      "tf.Tensor(5.00667, shape=(), dtype=float32)\n",
      "tf.Tensor(2.4946702, shape=(), dtype=float32)\n"
     ]
    }
   ],
   "source": [
    "print(W * 5 + b)\n",
    "print(W * 2.5 + b)"
   ]
  },
  {
   "cell_type": "code",
   "execution_count": null,
   "metadata": {},
   "outputs": [],
   "source": []
  }
 ],
 "metadata": {
  "kernelspec": {
   "display_name": "simon_env",
   "language": "python",
   "name": "simon_env"
  },
  "language_info": {
   "codemirror_mode": {
    "name": "ipython",
    "version": 3
   },
   "file_extension": ".py",
   "mimetype": "text/x-python",
   "name": "python",
   "nbconvert_exporter": "python",
   "pygments_lexer": "ipython3",
   "version": "3.8.3"
  },
  "toc": {
   "base_numbering": 1,
   "nav_menu": {},
   "number_sections": true,
   "sideBar": true,
   "skip_h1_title": false,
   "title_cell": "Table of Contents",
   "title_sidebar": "Contents",
   "toc_cell": false,
   "toc_position": {},
   "toc_section_display": true,
   "toc_window_display": false
  },
  "varInspector": {
   "cols": {
    "lenName": 16,
    "lenType": 16,
    "lenVar": 40
   },
   "kernels_config": {
    "python": {
     "delete_cmd_postfix": "",
     "delete_cmd_prefix": "del ",
     "library": "var_list.py",
     "varRefreshCmd": "print(var_dic_list())"
    },
    "r": {
     "delete_cmd_postfix": ") ",
     "delete_cmd_prefix": "rm(",
     "library": "var_list.r",
     "varRefreshCmd": "cat(var_dic_list()) "
    }
   },
   "types_to_exclude": [
    "module",
    "function",
    "builtin_function_or_method",
    "instance",
    "_Feature"
   ],
   "window_display": false
  }
 },
 "nbformat": 4,
 "nbformat_minor": 4
}
