{
 "cells": [
  {
   "cell_type": "code",
   "execution_count": 23,
   "metadata": {
    "ExecuteTime": {
     "end_time": "2021-02-09T11:27:02.364628Z",
     "start_time": "2021-02-09T11:26:53.044589Z"
    }
   },
   "outputs": [],
   "source": [
    "import numpy as np\n",
    "import matplotlib.pyplot as plt\n",
    "import seaborn as sns\n",
    "import tensorflow as tf"
   ]
  },
  {
   "cell_type": "markdown",
   "metadata": {},
   "source": [
    "# Cost function in pure Python(no tensor)"
   ]
  },
  {
   "cell_type": "code",
   "execution_count": 6,
   "metadata": {
    "ExecuteTime": {
     "end_time": "2021-02-09T11:19:01.762645Z",
     "start_time": "2021-02-09T11:19:01.748719Z"
    }
   },
   "outputs": [],
   "source": [
    "x = np.array([1,2,3])\n",
    "y = np.array([1,2,3])"
   ]
  },
  {
   "cell_type": "code",
   "execution_count": 7,
   "metadata": {
    "ExecuteTime": {
     "end_time": "2021-02-09T11:19:01.934186Z",
     "start_time": "2021-02-09T11:19:01.917231Z"
    }
   },
   "outputs": [],
   "source": [
    "def cost_func(w,x,y):\n",
    "    c = 0\n",
    "    for i in range(len(x)):\n",
    "        c += (w * x[i] - y[i]) ** 2\n",
    "    return c / len(x)"
   ]
  },
  {
   "cell_type": "code",
   "execution_count": 12,
   "metadata": {
    "ExecuteTime": {
     "end_time": "2021-02-09T11:22:54.248325Z",
     "start_time": "2021-02-09T11:22:54.228410Z"
    }
   },
   "outputs": [
    {
     "name": "stdout",
     "output_type": "stream",
     "text": [
      "-3.000 |   74.66667\n",
      "-2.429 |   54.85714\n",
      "-1.857 |   38.09524\n",
      "-1.286 |   24.38095\n",
      "-0.714 |   13.71429\n",
      "-0.143 |    6.09524\n",
      " 0.429 |    1.52381\n",
      " 1.000 |    0.00000\n",
      " 1.571 |    1.52381\n",
      " 2.143 |    6.09524\n",
      " 2.714 |   13.71429\n",
      " 3.286 |   24.38095\n",
      " 3.857 |   38.09524\n",
      " 4.429 |   54.85714\n",
      " 5.000 |   74.66667\n"
     ]
    }
   ],
   "source": [
    "list_w = []\n",
    "list_cost = []\n",
    "for feed_w in np.linspace(-3,5,num=15): # -3,5까지 15개의 구간값.\n",
    "    curr_cost = cost_func(feed_w,x,y)\n",
    "    print('{:6.3f} | {:10.5f}'.format(feed_w,curr_cost))\n",
    "    list_w.append(feed_w)\n",
    "    list_cost.append(curr_cost)"
   ]
  },
  {
   "cell_type": "code",
   "execution_count": 20,
   "metadata": {
    "ExecuteTime": {
     "end_time": "2021-02-09T11:24:10.931344Z",
     "start_time": "2021-02-09T11:24:10.553366Z"
    }
   },
   "outputs": [
    {
     "data": {
      "text/plain": [
       "<AxesSubplot:>"
      ]
     },
     "execution_count": 20,
     "metadata": {},
     "output_type": "execute_result"
    },
    {
     "data": {
      "image/png": "[encoded data removed]",
      "text/plain": [
       "<Figure size 432x288 with 1 Axes>"
      ]
     },
     "metadata": {},
     "output_type": "display_data"
    }
   ],
   "source": [
    "sns.set_style('darkgrid')\n",
    "sns.lineplot(x=list_w,y=list_cost)"
   ]
  },
  {
   "cell_type": "markdown",
   "metadata": {},
   "source": [
    "# Cost function in Tensorflow"
   ]
  },
  {
   "cell_type": "code",
   "execution_count": 31,
   "metadata": {
    "ExecuteTime": {
     "end_time": "2021-02-09T11:33:19.577918Z",
     "start_time": "2021-02-09T11:33:19.554980Z"
    }
   },
   "outputs": [
    {
     "name": "stdout",
     "output_type": "stream",
     "text": [
      "-3.000 |   74.66667\n",
      "-2.429 |   54.85714\n",
      "-1.857 |   38.09524\n",
      "-1.286 |   24.38095\n",
      "-0.714 |   13.71429\n",
      "-0.143 |    6.09524\n",
      " 0.429 |    1.52381\n",
      " 1.000 |    0.00000\n",
      " 1.571 |    1.52381\n",
      " 2.143 |    6.09524\n",
      " 2.714 |   13.71429\n",
      " 3.286 |   24.38095\n",
      " 3.857 |   38.09524\n",
      " 4.429 |   54.85714\n",
      " 5.000 |   74.66667\n"
     ]
    }
   ],
   "source": [
    "x = np.array([1,2,3])\n",
    "y = np.array([1,2,3])\n",
    "\n",
    "def cost_func(w,x,y):\n",
    "    hypothesis = w*x\n",
    "    return tf.reduce_mean(tf.square(hypothesis - y))\n",
    "\n",
    "w_values = np.linspace(-3,5,num=15)\n",
    "cost_values = []\n",
    "\n",
    "for feed_w in w_values:\n",
    "    curr_cost = cost_func(feed_w,x,y)\n",
    "    cost_values.append(curr_cost.numpy())\n",
    "    print(\"{:6.3f} | {:10.5f}\".format(feed_w,curr_cost))"
   ]
  },
  {
   "cell_type": "code",
   "execution_count": 32,
   "metadata": {
    "ExecuteTime": {
     "end_time": "2021-02-09T11:33:20.407435Z",
     "start_time": "2021-02-09T11:33:20.095144Z"
    }
   },
   "outputs": [
    {
     "data": {
      "text/plain": [
       "<AxesSubplot:>"
      ]
     },
     "execution_count": 32,
     "metadata": {},
     "output_type": "execute_result"
    },
    {
     "data": {
      "image/png": "[encoded data removed]",
      "text/plain": [
       "<Figure size 432x288 with 1 Axes>"
      ]
     },
     "metadata": {},
     "output_type": "display_data"
    }
   ],
   "source": [
    "sns.lineplot(x=w_values,y=cost_values)"
   ]
  },
  {
   "cell_type": "markdown",
   "metadata": {},
   "source": [
    "# Gradient descent in tensorflow"
   ]
  },
  {
   "cell_type": "code",
   "execution_count": 98,
   "metadata": {
    "ExecuteTime": {
     "end_time": "2021-02-09T14:52:35.692970Z",
     "start_time": "2021-02-09T14:52:35.031732Z"
    }
   },
   "outputs": [
    {
     "name": "stdout",
     "output_type": "stream",
     "text": [
      "    0 | 18332.2188 |  47.398293\n",
      "   10 |  3855.3564 |  22.638384\n",
      "   20 |   810.9046 |  11.283927\n",
      "   30 |   170.6631 |   6.076973\n",
      "   40 |    36.0217 |   3.689155\n",
      "   50 |     7.7069 |   2.594144\n",
      "   60 |     1.7524 |   2.091991\n",
      "   70 |     0.5001 |   1.861713\n",
      "   80 |     0.2368 |   1.756112\n",
      "   90 |     0.1814 |   1.707684\n",
      "  100 |     0.1698 |   1.685477\n",
      "  110 |     0.1673 |   1.675292\n",
      "  120 |     0.1668 |   1.670622\n",
      "  130 |     0.1667 |   1.668481\n",
      "  140 |     0.1667 |   1.667498\n",
      "  150 |     0.1667 |   1.667048\n",
      "  160 |     0.1667 |   1.666842\n",
      "  170 |     0.1667 |   1.666747\n",
      "  180 |     0.1667 |   1.666703\n",
      "  190 |     0.1667 |   1.666684\n",
      "  200 |     0.1667 |   1.666674\n",
      "  210 |     0.1667 |   1.666670\n",
      "  220 |     0.1667 |   1.666668\n",
      "  230 |     0.1667 |   1.666667\n",
      "  240 |     0.1667 |   1.666667\n",
      "  250 |     0.1667 |   1.666667\n",
      "  260 |     0.1667 |   1.666667\n",
      "  270 |     0.1667 |   1.666667\n",
      "  280 |     0.1667 |   1.666667\n",
      "  290 |     0.1667 |   1.666667\n"
     ]
    }
   ],
   "source": [
    "tf.random.set_seed(0) # for reproducibility\n",
    "\n",
    "x_data = [1.,2.,3.,4.]\n",
    "y_data = [1.,3.,5.,7.]\n",
    "\n",
    "W = tf.Variable(tf.random.normal([1],-100.,100.))\n",
    "\n",
    "cost_one = []\n",
    "w_one = []\n",
    "for step in range(300):\n",
    "    hypothesis = W * x_data\n",
    "    cost = tf.reduce_mean(tf.square(hypothesis - y_data))\n",
    "    \n",
    "    alpha = 0.01\n",
    "    gradient = tf.reduce_mean(tf.multiply(tf.multiply(W,x_data) - y_data,x_data))\n",
    "    descent = W - tf.multiply(alpha, gradient)\n",
    "    W.assign(descent)\n",
    "    cost_one.append(cost.numpy())\n",
    "    w_one.append(W.numpy()[0])\n",
    "    \n",
    "    if step % 10 == 0:\n",
    "        print('{:5} | {:10.4f} | {:10.6f}'.format(step,cost.numpy(),W.numpy()[0]))"
   ]
  },
  {
   "cell_type": "code",
   "execution_count": 99,
   "metadata": {
    "ExecuteTime": {
     "end_time": "2021-02-09T14:52:36.591658Z",
     "start_time": "2021-02-09T14:52:35.819624Z"
    }
   },
   "outputs": [
    {
     "name": "stdout",
     "output_type": "stream",
     "text": [
      "    0 |    83.5000 |   4.750000\n",
      "   10 |    17.6915 |   3.080629\n",
      "   20 |     3.8521 |   2.315085\n",
      "   30 |     0.9417 |   1.964020\n",
      "   40 |     0.3297 |   1.803027\n",
      "   50 |     0.2009 |   1.729199\n",
      "   60 |     0.1739 |   1.695343\n",
      "   70 |     0.1682 |   1.679817\n",
      "   80 |     0.1670 |   1.672697\n",
      "   90 |     0.1667 |   1.669432\n",
      "  100 |     0.1667 |   1.667935\n",
      "  110 |     0.1667 |   1.667248\n",
      "  120 |     0.1667 |   1.666933\n",
      "  130 |     0.1667 |   1.666789\n",
      "  140 |     0.1667 |   1.666723\n",
      "  150 |     0.1667 |   1.666692\n",
      "  160 |     0.1667 |   1.666678\n",
      "  170 |     0.1667 |   1.666672\n",
      "  180 |     0.1667 |   1.666669\n",
      "  190 |     0.1667 |   1.666668\n",
      "  200 |     0.1667 |   1.666667\n",
      "  210 |     0.1667 |   1.666667\n",
      "  220 |     0.1667 |   1.666667\n",
      "  230 |     0.1667 |   1.666667\n",
      "  240 |     0.1667 |   1.666667\n",
      "  250 |     0.1667 |   1.666667\n",
      "  260 |     0.1667 |   1.666667\n",
      "  270 |     0.1667 |   1.666667\n",
      "  280 |     0.1667 |   1.666667\n",
      "  290 |     0.1667 |   1.666667\n"
     ]
    }
   ],
   "source": [
    "tf.random.set_seed(0) # for reproducibility\n",
    "\n",
    "x_data = [1.,2.,3.,4.]\n",
    "y_data = [1.,3.,5.,7.]\n",
    "\n",
    "W = tf.Variable([5.])\n",
    "\n",
    "cost_five = []\n",
    "w_five = []\n",
    "for step in range(300):\n",
    "    hypothesis = W * x_data\n",
    "    cost = tf.reduce_mean(tf.square(hypothesis - y_data))\n",
    "    \n",
    "    alpha = 0.01\n",
    "    gradient = tf.reduce_mean(tf.multiply(tf.multiply(W,x_data) - y_data,x_data))\n",
    "    descent = W - tf.multiply(alpha, gradient)\n",
    "    W.assign(descent)\n",
    "    cost_five.append(cost.numpy())\n",
    "    w_five.append(W.numpy()[0])\n",
    "    \n",
    "    if step % 10 == 0:\n",
    "        print('{:5} | {:10.4f} | {:10.6f}'.format(step,cost.numpy(),W.numpy()[0]))"
   ]
  }
 ],
 "metadata": {
  "kernelspec": {
   "display_name": "Python 3",
   "language": "python",
   "name": "python3"
  },
  "language_info": {
   "codemirror_mode": {
    "name": "ipython",
    "version": 3
   },
   "file_extension": ".py",
   "mimetype": "text/x-python",
   "name": "python",
   "nbconvert_exporter": "python",
   "pygments_lexer": "ipython3",
   "version": "3.8.3"
  },
  "toc": {
   "base_numbering": 1,
   "nav_menu": {},
   "number_sections": true,
   "sideBar": true,
   "skip_h1_title": false,
   "title_cell": "Table of Contents",
   "title_sidebar": "Contents",
   "toc_cell": false,
   "toc_position": {},
   "toc_section_display": true,
   "toc_window_display": false
  },
  "varInspector": {
   "cols": {
    "lenName": 16,
    "lenType": 16,
    "lenVar": 40
   },
   "kernels_config": {
    "python": {
     "delete_cmd_postfix": "",
     "delete_cmd_prefix": "del ",
     "library": "var_list.py",
     "varRefreshCmd": "print(var_dic_list())"
    },
    "r": {
     "delete_cmd_postfix": ") ",
     "delete_cmd_prefix": "rm(",
     "library": "var_list.r",
     "varRefreshCmd": "cat(var_dic_list()) "
    }
   },
   "types_to_exclude": [
    "module",
    "function",
    "builtin_function_or_method",
    "instance",
    "_Feature"
   ],
   "window_display": false
  }
 },
 "nbformat": 4,
 "nbformat_minor": 4
}
