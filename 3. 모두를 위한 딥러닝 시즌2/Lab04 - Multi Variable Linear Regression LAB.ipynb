{
 "cells": [
  {
   "cell_type": "markdown",
   "metadata": {},
   "source": [
    "# Hypothesis using matrix"
   ]
  },
  {
   "cell_type": "code",
   "execution_count": 20,
   "metadata": {
    "ExecuteTime": {
     "end_time": "2021-02-10T01:50:54.679074Z",
     "start_time": "2021-02-10T01:50:54.665114Z"
    }
   },
   "outputs": [],
   "source": [
    "import tensorflow as tf"
   ]
  },
  {
   "cell_type": "markdown",
   "metadata": {},
   "source": [
    "## without matrix"
   ]
  },
  {
   "cell_type": "code",
   "execution_count": 39,
   "metadata": {
    "ExecuteTime": {
     "end_time": "2021-02-10T02:13:06.631682Z",
     "start_time": "2021-02-10T02:13:04.651257Z"
    }
   },
   "outputs": [
    {
     "name": "stdout",
     "output_type": "stream",
     "text": [
      "    0 |   11325.9121\n",
      "   50 |       9.7096\n",
      "  100 |       9.6132\n",
      "  150 |       9.5190\n",
      "  200 |       9.4270\n",
      "  250 |       9.3369\n",
      "  300 |       9.2490\n",
      "  350 |       9.1629\n",
      "  400 |       9.0789\n",
      "  450 |       8.9966\n",
      "  500 |       8.9162\n",
      "  550 |       8.8376\n",
      "  600 |       8.7607\n",
      "  650 |       8.6854\n",
      "  700 |       8.6119\n",
      "  750 |       8.5398\n",
      "  800 |       8.4693\n",
      "  850 |       8.4004\n",
      "  900 |       8.3329\n",
      "  950 |       8.2669\n",
      " 1000 |       8.2022\n"
     ]
    }
   ],
   "source": [
    "tf.random.set_seed(0)\n",
    "# data and label\n",
    "x1 = [73.,  93.,  89.,  96.,  73.]\n",
    "x2 = [80.,  88.,  91.,  98.,  66.]\n",
    "x3 = [75.,  93.,  90.,  100., 70.]\n",
    "y  = [152., 185., 180., 196., 142.]\n",
    "\n",
    "w1 = tf.Variable(tf.random.normal([1]))\n",
    "w2 = tf.Variable(tf.random.normal([1]))\n",
    "w3 = tf.Variable(tf.random.normal([1]))\n",
    "b  = tf.Variable(tf.random.normal([1]))\n",
    "\n",
    "learning_rate = 0.00001\n",
    "\n",
    "for i in range(1000+1):\n",
    "    # tf.GradientTape() to record the gradient of the cost function.\n",
    "    with tf.GradientTape() as tape:\n",
    "        hypothesis = w1*x1 + w2*x2 + w3*x3 + b\n",
    "        cost = tf.reduce_mean(tf.square(hypothesis - y))\n",
    "    \n",
    "    # calculates the gradients of the cost\n",
    "    w1_grad, w2_grad, w3_grad, b_grad = tape.gradient(cost,[w1,w2,w3,b])\n",
    "    \n",
    "    # update w1,w2,w3 and b\n",
    "    w1.assign_sub(learning_rate * w1_grad)\n",
    "    w2.assign_sub(learning_rate * w2_grad)\n",
    "    w3.assign_sub(learning_rate * w3_grad)\n",
    "    b.assign_sub(learning_rate * b_grad)\n",
    "    \n",
    "    if i % 50 == 0:\n",
    "        print('{:5} | {:12.4f}'.format(i,cost.numpy()))"
   ]
  },
  {
   "cell_type": "markdown",
   "metadata": {},
   "source": [
    "## with matrix "
   ]
  },
  {
   "cell_type": "code",
   "execution_count": 38,
   "metadata": {
    "ExecuteTime": {
     "end_time": "2021-02-10T02:12:59.094488Z",
     "start_time": "2021-02-10T02:12:57.152882Z"
    }
   },
   "outputs": [
    {
     "name": "stdout",
     "output_type": "stream",
     "text": [
      "    0 |    1798.2894\n",
      "   50 |       2.0498\n",
      "  100 |       2.0280\n",
      "  150 |       2.0066\n",
      "  200 |       1.9858\n",
      "  250 |       1.9654\n",
      "  300 |       1.9455\n",
      "  350 |       1.9261\n",
      "  400 |       1.9071\n",
      "  450 |       1.8886\n",
      "  500 |       1.8705\n",
      "  550 |       1.8528\n",
      "  600 |       1.8355\n",
      "  650 |       1.8186\n",
      "  700 |       1.8021\n",
      "  750 |       1.7860\n",
      "  800 |       1.7702\n",
      "  850 |       1.7548\n",
      "  900 |       1.7397\n",
      "  950 |       1.7249\n",
      " 1000 |       1.7105\n",
      " 1050 |       1.6964\n",
      " 1100 |       1.6826\n",
      " 1150 |       1.6691\n",
      " 1200 |       1.6559\n",
      " 1250 |       1.6430\n",
      " 1300 |       1.6304\n",
      " 1350 |       1.6180\n",
      " 1400 |       1.6059\n",
      " 1450 |       1.5941\n",
      " 1500 |       1.5825\n",
      " 1550 |       1.5712\n",
      " 1600 |       1.5601\n",
      " 1650 |       1.5492\n",
      " 1700 |       1.5385\n",
      " 1750 |       1.5281\n",
      " 1800 |       1.5179\n",
      " 1850 |       1.5079\n",
      " 1900 |       1.4981\n",
      " 1950 |       1.4884\n",
      " 2000 |       1.4790\n"
     ]
    }
   ],
   "source": [
    "tf.random.set_seed(0)\n",
    "\n",
    "data = np.array([\n",
    "    [73., 80., 75.,  152.],\n",
    "    [93., 88., 93.,  185.],\n",
    "    [89., 91., 90.,  180.],\n",
    "    [96., 98., 100., 196.],\n",
    "    [73., 66., 70.,  142.]],dtype=np.float32)\n",
    "\n",
    "# slice data\n",
    "X = data[:,:-1]\n",
    "Y = data[:,[-1]]\n",
    "\n",
    "W = tf.Variable(tf.random.normal([3,1]))\n",
    "b = tf.Variable(tf.random.normal([1]))\n",
    "\n",
    "learning_rate = 0.00001\n",
    "\n",
    "def predict(X):\n",
    "    return tf.matmul(X,W) + b\n",
    "\n",
    "n_epochs = 2000\n",
    "for i in range(n_epochs+1):\n",
    "    # tf.GradientTape() to record the gradient of the cost function.\n",
    "    with tf.GradientTape() as tape:\n",
    "        cost = tf.reduce_mean(tf.square(predict(X) - Y))\n",
    "    \n",
    "    # calculates the gradients of the cost\n",
    "    W_grad, b_grad = tape.gradient(cost,[W,b])\n",
    "    \n",
    "    # update w1,w2,w3 and b\n",
    "    W.assign_sub(learning_rate * W_grad)\n",
    "    b.assign_sub(learning_rate * b_grad)\n",
    "    \n",
    "    if i % 50 == 0:\n",
    "        print('{:5} | {:12.4f}'.format(i,cost.numpy()))"
   ]
  }
 ],
 "metadata": {
  "kernelspec": {
   "display_name": "simon_env",
   "language": "python",
   "name": "simon_env"
  },
  "language_info": {
   "codemirror_mode": {
    "name": "ipython",
    "version": 3
   },
   "file_extension": ".py",
   "mimetype": "text/x-python",
   "name": "python",
   "nbconvert_exporter": "python",
   "pygments_lexer": "ipython3",
   "version": "3.8.3"
  },
  "toc": {
   "base_numbering": 1,
   "nav_menu": {},
   "number_sections": true,
   "sideBar": true,
   "skip_h1_title": false,
   "title_cell": "Table of Contents",
   "title_sidebar": "Contents",
   "toc_cell": false,
   "toc_position": {},
   "toc_section_display": true,
   "toc_window_display": false
  },
  "varInspector": {
   "cols": {
    "lenName": 16,
    "lenType": 16,
    "lenVar": 40
   },
   "kernels_config": {
    "python": {
     "delete_cmd_postfix": "",
     "delete_cmd_prefix": "del ",
     "library": "var_list.py",
     "varRefreshCmd": "print(var_dic_list())"
    },
    "r": {
     "delete_cmd_postfix": ") ",
     "delete_cmd_prefix": "rm(",
     "library": "var_list.r",
     "varRefreshCmd": "cat(var_dic_list()) "
    }
   },
   "types_to_exclude": [
    "module",
    "function",
    "builtin_function_or_method",
    "instance",
    "_Feature"
   ],
   "window_display": false
  }
 },
 "nbformat": 4,
 "nbformat_minor": 4
}
