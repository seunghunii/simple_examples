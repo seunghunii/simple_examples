{
 "cells": [
  {
   "cell_type": "markdown",
   "metadata": {},
   "source": [
    "Logistic Regression은 True/False와 같은 Binary나 복수개의 다항 분류에 쓰인다."
   ]
  },
  {
   "cell_type": "code",
   "execution_count": 4,
   "metadata": {
    "ExecuteTime": {
     "end_time": "2021-02-14T05:00:45.918973Z",
     "start_time": "2021-02-14T05:00:45.494190Z"
    }
   },
   "outputs": [],
   "source": [
    "import numpy as np\n",
    "import matplotlib.pyplot as plt\n",
    "%matplotlib inline\n",
    "import tensorflow as tf"
   ]
  },
  {
   "cell_type": "code",
   "execution_count": 5,
   "metadata": {
    "ExecuteTime": {
     "end_time": "2021-02-14T05:01:08.015766Z",
     "start_time": "2021-02-14T05:01:07.997813Z"
    }
   },
   "outputs": [
    {
     "name": "stdout",
     "output_type": "stream",
     "text": [
      "2.3.1\n"
     ]
    }
   ],
   "source": [
    "tf.random.set_seed(777)\n",
    "print(tf.__version__)"
   ]
  },
  {
   "cell_type": "markdown",
   "metadata": {},
   "source": [
    "# Data"
   ]
  },
  {
   "cell_type": "code",
   "execution_count": 6,
   "metadata": {
    "ExecuteTime": {
     "end_time": "2021-02-14T05:03:28.688248Z",
     "start_time": "2021-02-14T05:03:28.677247Z"
    }
   },
   "outputs": [],
   "source": [
    "x_train = [[1.,2.],\n",
    "           [2.,3.],\n",
    "           [3.,1.],\n",
    "           [4.,3.],\n",
    "           [5.,3.],\n",
    "           [6.,2.]]\n",
    "y_train = [[0.],[0.],[0.],[1.],[1.],[1.]]\n",
    "\n",
    "x_test = [[5.,2.]]\n",
    "y_test = [[1.]]"
   ]
  },
  {
   "cell_type": "code",
   "execution_count": 7,
   "metadata": {
    "ExecuteTime": {
     "end_time": "2021-02-14T05:03:50.658311Z",
     "start_time": "2021-02-14T05:03:50.643320Z"
    }
   },
   "outputs": [],
   "source": [
    "x1 = [x[0] for x in x_train]\n",
    "x2 = [x[1] for x in x_train]"
   ]
  },
  {
   "cell_type": "code",
   "execution_count": 9,
   "metadata": {
    "ExecuteTime": {
     "end_time": "2021-02-14T05:05:24.326753Z",
     "start_time": "2021-02-14T05:05:23.989658Z"
    }
   },
   "outputs": [
    {
     "data": {
      "text/plain": [
       "Text(0, 0.5, 'x2')"
      ]
     },
     "execution_count": 9,
     "metadata": {},
     "output_type": "execute_result"
    },
    {
     "data": {
      "image/png": "[encoded data removed]",
      "text/plain": [
       "<Figure size 432x288 with 1 Axes>"
      ]
     },
     "metadata": {
      "needs_background": "light"
     },
     "output_type": "display_data"
    }
   ],
   "source": [
    "colors = [int(y[0] % 3) for y in y_train]\n",
    "plt.scatter(x1,x2,c=colors,marker='^')\n",
    "plt.scatter(x_test[0][0],x_test[0][1],c='red')\n",
    "\n",
    "plt.xlabel('x1')\n",
    "plt.ylabel('x2')"
   ]
  },
  {
   "cell_type": "markdown",
   "metadata": {},
   "source": [
    "# Tensorflow Eager"
   ]
  },
  {
   "cell_type": "markdown",
   "metadata": {},
   "source": [
    "위 Data를 기준으로 가설의 검증을 통해 Logistic Classification 모델을 만들도록 하겠습니다.\n",
    " * Tensorflow data API를 통해 학습시킬 값들을 담는다. (Batch Size는 한번에 학습시킬 Size로 정한다.)\n",
    " * features, labels는 실재 학습에 쓰일 Data(연산을 위해 Type를 맞춘다.)"
   ]
  },
  {
   "cell_type": "code",
   "execution_count": 10,
   "metadata": {
    "ExecuteTime": {
     "end_time": "2021-02-14T05:10:49.417925Z",
     "start_time": "2021-02-14T05:10:49.333586Z"
    }
   },
   "outputs": [],
   "source": [
    "dataset = tf.data.Dataset.from_tensor_slices((x_train,y_train)).batch(len(x_train))"
   ]
  },
  {
   "cell_type": "markdown",
   "metadata": {},
   "source": [
    " * W와 b는 학습을 통해 생성되는 모델에 쓰이는 Weight와 Bias(초기값을 Variable : 0 이나 Random 값으로 가능. tf.random_normal([2,1]))"
   ]
  },
  {
   "cell_type": "code",
   "execution_count": 11,
   "metadata": {
    "ExecuteTime": {
     "end_time": "2021-02-14T05:12:51.210557Z",
     "start_time": "2021-02-14T05:12:51.190609Z"
    }
   },
   "outputs": [],
   "source": [
    "W = tf.Variable(tf.zeros([2,1]),name='weight')\n",
    "b = tf.Variable(tf.zeros([1]),name='bias')"
   ]
  },
  {
   "cell_type": "markdown",
   "metadata": {},
   "source": [
    "Sigmoid 함수를 가설로 선언한다.\n",
    " * Sigmoid는 아래 그래프와 같이 0과 1의 값만을 리턴합니다. tf.sigmoid(tf.matmul(X,W) + b)와 같습니다."
   ]
  },
  {
   "cell_type": "markdown",
   "metadata": {},
   "source": [
    "<img src=\"https://latex.codecogs.com/gif.latex?sigmoid(x)=\\frac{1}{1&plus;e^{-x}}\" title=\"sigmoid(x)=\\frac{1}{1+e^{-x}}\" />"
   ]
  },
  {
   "cell_type": "code",
   "execution_count": 38,
   "metadata": {
    "ExecuteTime": {
     "end_time": "2021-02-14T05:41:40.079544Z",
     "start_time": "2021-02-14T05:41:40.075525Z"
    }
   },
   "outputs": [],
   "source": [
    "logg_list = []\n",
    "for k in range(-6,8,2):\n",
    "    tmp_value = 1/(1+np.exp(-k))\n",
    "    logg_list.append(tmp_value)"
   ]
  },
  {
   "cell_type": "code",
   "execution_count": 39,
   "metadata": {
    "ExecuteTime": {
     "end_time": "2021-02-14T05:41:40.800266Z",
     "start_time": "2021-02-14T05:41:40.561904Z"
    }
   },
   "outputs": [
    {
     "data": {
      "text/plain": [
       "<matplotlib.lines.Line2D at 0x288f2bd6dc0>"
      ]
     },
     "execution_count": 39,
     "metadata": {},
     "output_type": "execute_result"
    },
    {
     "data": {
      "image/png": "[encoded data removed]",
      "text/plain": [
       "<Figure size 432x288 with 1 Axes>"
      ]
     },
     "metadata": {
      "needs_background": "light"
     },
     "output_type": "display_data"
    }
   ],
   "source": [
    "plt.plot(range(-6,8,2),logg_list)\n",
    "plt.grid(b=True)\n",
    "plt.axhline(0.5,color='red')"
   ]
  },
  {
   "cell_type": "code",
   "execution_count": 13,
   "metadata": {
    "ExecuteTime": {
     "end_time": "2021-02-14T05:19:35.844830Z",
     "start_time": "2021-02-14T05:19:35.835854Z"
    }
   },
   "outputs": [],
   "source": [
    "def logistic_regression(features):\n",
    "    hypothesis = tf.divide(1.,1. + tf.exp(tf.matmul(features,W) + b))\n",
    "    return hypothesis"
   ]
  },
  {
   "cell_type": "markdown",
   "metadata": {},
   "source": [
    "가설을 검증할 Cost를 정의합니다."
   ]
  },
  {
   "cell_type": "markdown",
   "metadata": {},
   "source": [
    "<img src=\"https://latex.codecogs.com/gif.latex?Cost(h_\\theta(x),y)&space;=&space;\\begin{Bmatrix}&space;-log(h_\\theta(x))\\quad\\quad\\;\\;\\;&space;if\\;y=1&space;\\\\&space;-log(1-h_\\theta(x))\\quad&space;if\\;y=0&space;\\end{Bmatrix}\" title=\"Cost(h_\\theta(x),y) = \\begin{Bmatrix} -log(h_\\theta(x))\\quad\\quad\\;\\;\\; if\\;y=1 \\\\ -log(1-h_\\theta(x))\\quad if\\;y=0 \\end{Bmatrix}\" />"
   ]
  },
  {
   "cell_type": "code",
   "execution_count": 42,
   "metadata": {
    "ExecuteTime": {
     "end_time": "2021-02-14T06:07:49.281924Z",
     "start_time": "2021-02-14T06:07:49.273945Z"
    }
   },
   "outputs": [],
   "source": [
    "def loss_fn(hypothesis,features,labels):\n",
    "    cost = -tf.reduce_mean(labels * tf.math.log(logistic_regression(features)) + (1-labels) * tf.math.log(1-hypothesis))\n",
    "    return cost\n",
    "\n",
    "optimizer = tf.keras.optimizers.SGD(learning_rate=0.01)"
   ]
  },
  {
   "cell_type": "markdown",
   "metadata": {},
   "source": [
    "추론한 값은 0.5를 기준(Sigmoid 그래프 참조)로 0과 1 값을 리턴합니다.\n",
    " * Sigmoid 함수를 통해 예측값이 0.5보다 크면 1을 반환하고, 0.5보다 작으면 0으로 반환합니다.\n",
    " * 가설을 통해 실재 값과 비교한 정확도를 측정합니다."
   ]
  },
  {
   "cell_type": "code",
   "execution_count": 14,
   "metadata": {
    "ExecuteTime": {
     "end_time": "2021-02-14T05:22:43.215740Z",
     "start_time": "2021-02-14T05:22:43.195794Z"
    }
   },
   "outputs": [],
   "source": [
    "def accuracy_fn(hypothesis, labels):\n",
    "    predicted = tf.cast(hypothesis > 0.5,dtype = tf.float32)\n",
    "    accuracy = tf.reduce_mean(tf.cast(tf.equal(predicted,labels),dtype=tf.float32))\n",
    "    return accuracy"
   ]
  },
  {
   "cell_type": "markdown",
   "metadata": {},
   "source": [
    "Gradient Tape를 통해 경사값을 계산합니다."
   ]
  },
  {
   "cell_type": "code",
   "execution_count": 15,
   "metadata": {
    "ExecuteTime": {
     "end_time": "2021-02-14T05:24:09.908157Z",
     "start_time": "2021-02-14T05:24:09.892200Z"
    }
   },
   "outputs": [],
   "source": [
    "def grad(features, labels):\n",
    "    with tf.GradientTape() as tape:\n",
    "        loss_value = loss_fn(logistic_regression(features),features,labels)\n",
    "    return tape.gradient(loss_value,[W,b])"
   ]
  },
  {
   "cell_type": "markdown",
   "metadata": {},
   "source": [
    "학습을 실행합니다.\n",
    " * 위의 Data를 Cost함수를 통해 학습시킨 후 모델을 생성합니다.\n",
    " * 새로운 Data를 통한 검증 수행 [5,2]의 Data로 테스트 수행(그래프상 1이 나와야 정상입니다.)"
   ]
  },
  {
   "cell_type": "code",
   "execution_count": 43,
   "metadata": {
    "ExecuteTime": {
     "end_time": "2021-02-14T06:07:57.727285Z",
     "start_time": "2021-02-14T06:07:51.536326Z"
    }
   },
   "outputs": [
    {
     "name": "stdout",
     "output_type": "stream",
     "text": [
      "iter: 0, Loss: 0.6874\n",
      "iter: 100, Loss: 0.5776\n",
      "iter: 200, Loss: 0.5349\n",
      "iter: 300, Loss: 0.5054\n",
      "iter: 400, Loss: 0.4838\n",
      "iter: 500, Loss: 0.4671\n",
      "iter: 600, Loss: 0.4535\n",
      "iter: 700, Loss: 0.4420\n",
      "iter: 800, Loss: 0.4319\n",
      "iter: 900, Loss: 0.4228\n",
      "iter: 1000, Loss: 0.4144\n",
      "Testset Accuracy: 1.0000\n"
     ]
    }
   ],
   "source": [
    "epochs = 1001\n",
    "\n",
    "for step in range(epochs):\n",
    "    for features, labels in iter(dataset):\n",
    "        grads = grad(features,labels)\n",
    "        optimizer.apply_gradients(grads_and_vars=zip(grads,[W,b]))\n",
    "        if step % 100 == 0:\n",
    "            print('iter: {}, Loss: {:.4f}'.format(step,loss_fn(logistic_regression(features),features,labels)))\n",
    "\n",
    "test_acc = accuracy_fn(logistic_regression(x_test),y_test)\n",
    "print('Testset Accuracy: {:.4f}'.format(test_acc))"
   ]
  },
  {
   "cell_type": "code",
   "execution_count": null,
   "metadata": {},
   "outputs": [],
   "source": []
  }
 ],
 "metadata": {
  "kernelspec": {
   "display_name": "simon_env",
   "language": "python",
   "name": "simon_env"
  },
  "language_info": {
   "codemirror_mode": {
    "name": "ipython",
    "version": 3
   },
   "file_extension": ".py",
   "mimetype": "text/x-python",
   "name": "python",
   "nbconvert_exporter": "python",
   "pygments_lexer": "ipython3",
   "version": "3.8.3"
  },
  "toc": {
   "base_numbering": 1,
   "nav_menu": {},
   "number_sections": true,
   "sideBar": true,
   "skip_h1_title": false,
   "title_cell": "Table of Contents",
   "title_sidebar": "Contents",
   "toc_cell": false,
   "toc_position": {},
   "toc_section_display": true,
   "toc_window_display": false
  },
  "varInspector": {
   "cols": {
    "lenName": 16,
    "lenType": 16,
    "lenVar": 40
   },
   "kernels_config": {
    "python": {
     "delete_cmd_postfix": "",
     "delete_cmd_prefix": "del ",
     "library": "var_list.py",
     "varRefreshCmd": "print(var_dic_list())"
    },
    "r": {
     "delete_cmd_postfix": ") ",
     "delete_cmd_prefix": "rm(",
     "library": "var_list.r",
     "varRefreshCmd": "cat(var_dic_list()) "
    }
   },
   "types_to_exclude": [
    "module",
    "function",
    "builtin_function_or_method",
    "instance",
    "_Feature"
   ],
   "window_display": false
  }
 },
 "nbformat": 4,
 "nbformat_minor": 4
}
