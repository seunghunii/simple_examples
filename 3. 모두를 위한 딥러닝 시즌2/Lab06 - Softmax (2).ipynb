{
 "cells": [
  {
   "cell_type": "markdown",
   "metadata": {},
   "source": [
    "Lab 06 Softmax Zoo_classifier-eager\n",
    " * Softmax를 사용하여 Zoo 데이터를 활용한 분류를 진행합니다."
   ]
  },
  {
   "cell_type": "markdown",
   "metadata": {},
   "source": [
    "# 기본 Library 선언 및 Tensorflow 버전 확인"
   ]
  },
  {
   "cell_type": "code",
   "execution_count": 1,
   "metadata": {
    "ExecuteTime": {
     "end_time": "2021-02-15T10:13:02.935511Z",
     "start_time": "2021-02-15T10:12:51.922846Z"
    }
   },
   "outputs": [
    {
     "name": "stdout",
     "output_type": "stream",
     "text": [
      "2.3.1\n"
     ]
    }
   ],
   "source": [
    "import tensorflow as tf\n",
    "import numpy as np\n",
    "\n",
    "print(tf.__version__)\n",
    "tf.random.set_seed(777)"
   ]
  },
  {
   "cell_type": "code",
   "execution_count": 3,
   "metadata": {
    "ExecuteTime": {
     "end_time": "2021-02-15T10:14:39.135381Z",
     "start_time": "2021-02-15T10:14:39.052602Z"
    }
   },
   "outputs": [
    {
     "name": "stdout",
     "output_type": "stream",
     "text": [
      "(101, 16) (101, 7)\n"
     ]
    }
   ],
   "source": [
    "xy = np.loadtxt('https://raw.githubusercontent.com/deeplearningzerotoall/TensorFlow/master/tf_2.x/data-04-zoo.csv',\n",
    "                delimiter=',',dtype=np.float32)\n",
    "x_data = xy[:,0:-1]\n",
    "y_data = xy[:,-1]\n",
    "\n",
    "nb_classes = 7\n",
    "\n",
    "# Wake Y data as one hot shape\n",
    "Y_one_hot = tf.one_hot(y_data.astype(np.int32),nb_classes)\n",
    "print(x_data.shape,Y_one_hot.shape)"
   ]
  },
  {
   "cell_type": "code",
   "execution_count": 4,
   "metadata": {
    "ExecuteTime": {
     "end_time": "2021-02-15T10:15:48.031892Z",
     "start_time": "2021-02-15T10:15:48.016906Z"
    }
   },
   "outputs": [],
   "source": [
    "# Weight and bias setting\n",
    "W = tf.Variable(tf.random.normal((16,nb_classes)),name='weight')\n",
    "b = tf.Variable(tf.random.normal((nb_classes,)),name='bias')\n",
    "variables = [W,b]"
   ]
  },
  {
   "cell_type": "code",
   "execution_count": 8,
   "metadata": {
    "ExecuteTime": {
     "end_time": "2021-02-15T11:45:43.396947Z",
     "start_time": "2021-02-15T11:45:43.381986Z"
    }
   },
   "outputs": [],
   "source": [
    "# tt.nn.softmax computes softmax activations\n",
    "# softmax = exp(logits) / reduce_sum(exp(logits),dim)\n",
    "def logit_fn(X):\n",
    "    return tf.matmul(X,W) + b\n",
    "\n",
    "def hypothesis(X):\n",
    "    return tf.nn.softmax(logit_fn(X))\n",
    "\n",
    "def cost_fn(X,Y):\n",
    "    logits = logit_fn(X)\n",
    "    cost_i = tf.keras.losses.categorical_crossentropy(y_true=Y,y_pred=logits,\n",
    "                                                      from_logits=True)\n",
    "    cost = tf.reduce_mean(cost_i)\n",
    "    return cost\n",
    "\n",
    "def grad_fn(X,Y):\n",
    "    with tf.GradientTape() as tape:\n",
    "        loss = cost_fn(X,Y)\n",
    "        grads = tape.gradient(loss,variables)\n",
    "        return grads\n",
    "\n",
    "def prediction(X,Y):\n",
    "    pred = tf.argmax(hypothesis(X),1)\n",
    "    correct_prediction = tf.equal(pred,tf.argmax(Y,1))\n",
    "    accuracy = tf.reduce_mean(tf.cast(correct_prediction,tf.float32))\n",
    "    return accuracy"
   ]
  },
  {
   "cell_type": "code",
   "execution_count": 9,
   "metadata": {
    "ExecuteTime": {
     "end_time": "2021-02-15T11:45:46.390866Z",
     "start_time": "2021-02-15T11:45:43.780111Z"
    }
   },
   "outputs": [
    {
     "name": "stdout",
     "output_type": "stream",
     "text": [
      "Steps: 1 Loss: 2.6955952644348145, ACC: 0.40594059228897095\n",
      "Steps: 100 Loss: 0.5124281048774719, ACC: 0.7920792102813721\n",
      "Steps: 200 Loss: 0.3161884546279907, ACC: 0.9108911156654358\n",
      "Steps: 300 Loss: 0.23416443169116974, ACC: 0.9405940771102905\n",
      "Steps: 400 Loss: 0.1879921406507492, ACC: 0.9504950642585754\n",
      "Steps: 500 Loss: 0.15796101093292236, ACC: 0.9603960514068604\n",
      "Steps: 600 Loss: 0.13667190074920654, ACC: 0.9900990128517151\n",
      "Steps: 700 Loss: 0.12070946395397186, ACC: 0.9900990128517151\n",
      "Steps: 800 Loss: 0.10825730115175247, ACC: 1.0\n",
      "Steps: 900 Loss: 0.09824936091899872, ACC: 1.0\n",
      "Steps: 1000 Loss: 0.09001512825489044, ACC: 1.0\n"
     ]
    }
   ],
   "source": [
    "def fit(X,Y,epochs=1000,verbose=100):\n",
    "    optimizer = tf.keras.optimizers.SGD(learning_rate=0.1)\n",
    "    \n",
    "    for i in range(epochs):\n",
    "        grads = grad_fn(X,Y)\n",
    "        optimizer.apply_gradients(zip(grads,variables))\n",
    "        if (i==0) | ((i+1)%verbose==0):\n",
    "            #print('Loss at epochs %d : %f' %(i+1,cost_fn(X,Y).numpy()))\n",
    "            acc = prediction(X,Y).numpy()\n",
    "            loss = cost_fn(X,Y).numpy()\n",
    "            print('Steps: {} Loss: {}, ACC: {}'.format(i+1,loss,acc))\n",
    "            \n",
    "fit(x_data,Y_one_hot)"
   ]
  },
  {
   "cell_type": "code",
   "execution_count": null,
   "metadata": {},
   "outputs": [],
   "source": []
  }
 ],
 "metadata": {
  "kernelspec": {
   "display_name": "Python 3",
   "language": "python",
   "name": "python3"
  },
  "language_info": {
   "codemirror_mode": {
    "name": "ipython",
    "version": 3
   },
   "file_extension": ".py",
   "mimetype": "text/x-python",
   "name": "python",
   "nbconvert_exporter": "python",
   "pygments_lexer": "ipython3",
   "version": "3.8.3"
  },
  "toc": {
   "base_numbering": 1,
   "nav_menu": {},
   "number_sections": true,
   "sideBar": true,
   "skip_h1_title": false,
   "title_cell": "Table of Contents",
   "title_sidebar": "Contents",
   "toc_cell": false,
   "toc_position": {},
   "toc_section_display": true,
   "toc_window_display": false
  },
  "varInspector": {
   "cols": {
    "lenName": 16,
    "lenType": 16,
    "lenVar": 40
   },
   "kernels_config": {
    "python": {
     "delete_cmd_postfix": "",
     "delete_cmd_prefix": "del ",
     "library": "var_list.py",
     "varRefreshCmd": "print(var_dic_list())"
    },
    "r": {
     "delete_cmd_postfix": ") ",
     "delete_cmd_prefix": "rm(",
     "library": "var_list.r",
     "varRefreshCmd": "cat(var_dic_list()) "
    }
   },
   "types_to_exclude": [
    "module",
    "function",
    "builtin_function_or_method",
    "instance",
    "_Feature"
   ],
   "window_display": false
  }
 },
 "nbformat": 4,
 "nbformat_minor": 4
}
