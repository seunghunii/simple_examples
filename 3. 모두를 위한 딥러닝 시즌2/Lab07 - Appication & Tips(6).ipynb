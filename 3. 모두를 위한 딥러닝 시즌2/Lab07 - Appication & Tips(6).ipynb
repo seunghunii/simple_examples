{
 "cells": [
  {
   "cell_type": "markdown",
   "metadata": {},
   "source": [
    "Lab07 - IMDB Introduction\n",
    " * https://www.tensorflow.org/tutorials/keras/basic_text_classification"
   ]
  },
  {
   "cell_type": "markdown",
   "metadata": {},
   "source": [
    "# 기본 Library 선언 및 Tensorflow 버전 확인"
   ]
  },
  {
   "cell_type": "code",
   "execution_count": 22,
   "metadata": {
    "ExecuteTime": {
     "end_time": "2021-02-17T06:08:09.636458Z",
     "start_time": "2021-02-17T06:08:09.619515Z"
    }
   },
   "outputs": [
    {
     "name": "stdout",
     "output_type": "stream",
     "text": [
      "2.3.1\n"
     ]
    }
   ],
   "source": [
    "import numpy as np\n",
    "import tensorflow as tf\n",
    "from tensorflow import keras\n",
    "\n",
    "tf.random.set_seed(777)\n",
    "print(tf.__version__)"
   ]
  },
  {
   "cell_type": "markdown",
   "metadata": {},
   "source": [
    " * Tensorflow 2.0 버전에 맞게 Keras를 활용한 IMDB 분류 모델 생성"
   ]
  },
  {
   "cell_type": "markdown",
   "metadata": {},
   "source": [
    "학습에 쓰이는 데이터\n",
    "* 50,000 Movie reviews from the internet movie database (10000개의 빈도수가 높은 단어를 학습시 Vector에 사용)"
   ]
  },
  {
   "cell_type": "code",
   "execution_count": 23,
   "metadata": {
    "ExecuteTime": {
     "end_time": "2021-02-17T06:16:07.659732Z",
     "start_time": "2021-02-17T06:15:54.197289Z"
    }
   },
   "outputs": [
    {
     "name": "stdout",
     "output_type": "stream",
     "text": [
      "Downloading data from https://storage.googleapis.com/tensorflow/tf-keras-datasets/imdb.npz\n",
      "17465344/17464789 [==============================] - 6s 0us/step\n",
      "Training Entries: 25000, labels: 25000\n",
      "[1, 14, 22, 16, 43, 530, 973, 1622, 1385, 65, 458, 4468, 66, 3941, 4, 173, 36, 256, 5, 25, 100, 43, 838, 112, 50, 670, 2, 9, 35, 480, 284, 5, 150, 4, 172, 112, 167, 2, 336, 385, 39, 4, 172, 4536, 1111, 17, 546, 38, 13, 447, 4, 192, 50, 16, 6, 147, 2025, 19, 14, 22, 4, 1920, 4613, 469, 4, 22, 71, 87, 12, 16, 43, 530, 38, 76, 15, 13, 1247, 4, 22, 17, 515, 17, 12, 16, 626, 18, 2, 5, 62, 386, 12, 8, 316, 8, 106, 5, 4, 2223, 5244, 16, 480, 66, 3785, 33, 4, 130, 12, 16, 38, 619, 5, 25, 124, 51, 36, 135, 48, 25, 1415, 33, 6, 22, 12, 215, 28, 77, 52, 5, 14, 407, 16, 82, 2, 8, 4, 107, 117, 5952, 15, 256, 4, 2, 7, 3766, 5, 723, 36, 71, 43, 530, 476, 26, 400, 317, 46, 7, 4, 2, 1029, 13, 104, 88, 4, 381, 15, 297, 98, 32, 2071, 56, 26, 141, 6, 194, 7486, 18, 4, 226, 22, 21, 134, 476, 26, 480, 5, 144, 30, 5535, 18, 51, 36, 28, 224, 92, 25, 104, 4, 226, 65, 16, 38, 1334, 88, 12, 16, 283, 5, 16, 4472, 113, 103, 32, 15, 16, 5345, 19, 178, 32]\n"
     ]
    }
   ],
   "source": [
    "imdb = keras.datasets.imdb\n",
    "(train_data,train_labels),(test_data,test_labels) = imdb.load_data(num_words=10000)\n",
    "print('Training Entries: {}, labels: {}'.format(len(train_data),len(train_labels)))\n",
    "print(train_data[0])"
   ]
  },
  {
   "cell_type": "markdown",
   "metadata": {},
   "source": [
    " * IMDB Data를 Vector를 실재 값으로 변환하여 출력"
   ]
  },
  {
   "cell_type": "code",
   "execution_count": 26,
   "metadata": {
    "ExecuteTime": {
     "end_time": "2021-02-17T06:23:37.511030Z",
     "start_time": "2021-02-17T06:23:37.301576Z"
    }
   },
   "outputs": [
    {
     "data": {
      "text/plain": [
       "\"<START> worst mistake of my life br br i picked this movie up at target for 5 because i figured hey it's sandler i can get some cheap laughs i was wrong completely wrong mid way through the film all three of my friends were asleep and i was still suffering worst plot worst script worst movie i have ever seen i wanted to hit my head up against a wall for an hour then i'd stop and you know why because it felt damn good upon bashing my head in i stuck that damn movie in the <UNK> and watched it burn and that felt better than anything else i've ever done it took american psycho army of darkness and kill bill just to get over that crap i hate you sandler for actually going through with this and ruining a whole day of my life\""
      ]
     },
     "execution_count": 26,
     "metadata": {},
     "output_type": "execute_result"
    }
   ],
   "source": [
    "word_index = imdb.get_word_index()\n",
    "\n",
    "word_index = {k:(v+3) for k,v in word_index.items()}\n",
    "word_index['<PAD>'] = 0\n",
    "word_index['<START>'] = 1\n",
    "word_index['<UNK>'] = 2\n",
    "word_index['<UNUSED>'] = 3\n",
    "\n",
    "reverse_word_index = dict([(value,key) for (key,value) in word_index.items()])\n",
    "\n",
    "def decode_review(text):\n",
    "    return ' '.join([reverse_word_index.get(i,'?') for i in text])\n",
    "\n",
    "decode_review(train_data[4])"
   ]
  },
  {
   "cell_type": "code",
   "execution_count": 27,
   "metadata": {
    "ExecuteTime": {
     "end_time": "2021-02-17T06:24:33.795884Z",
     "start_time": "2021-02-17T06:24:33.778928Z"
    }
   },
   "outputs": [
    {
     "name": "stdout",
     "output_type": "stream",
     "text": [
      "0\n"
     ]
    }
   ],
   "source": [
    "print(train_labels[4])"
   ]
  },
  {
   "cell_type": "markdown",
   "metadata": {},
   "source": [
    "Tensorflow Keras\n",
    "\n",
    "위 Data를 기준으로 분류 모델을 만들도록 하겠습니다.\n",
    " * 학습과 평가를 위해 동일길이인 256길이의 단어로 PAD값을 주어 맞춰줌(뒤의 길이는 0값으로 맞춰줌)"
   ]
  },
  {
   "cell_type": "code",
   "execution_count": 28,
   "metadata": {
    "ExecuteTime": {
     "end_time": "2021-02-17T06:31:04.239738Z",
     "start_time": "2021-02-17T06:31:02.994072Z"
    }
   },
   "outputs": [
    {
     "name": "stdout",
     "output_type": "stream",
     "text": [
      "256 256\n",
      "[   1   14   22   16   43  530  973 1622 1385   65  458 4468   66 3941\n",
      "    4  173   36  256    5   25  100   43  838  112   50  670    2    9\n",
      "   35  480  284    5  150    4  172  112  167    2  336  385   39    4\n",
      "  172 4536 1111   17  546   38   13  447    4  192   50   16    6  147\n",
      " 2025   19   14   22    4 1920 4613  469    4   22   71   87   12   16\n",
      "   43  530   38   76   15   13 1247    4   22   17  515   17   12   16\n",
      "  626   18    2    5   62  386   12    8  316    8  106    5    4 2223\n",
      " 5244   16  480   66 3785   33    4  130   12   16   38  619    5   25\n",
      "  124   51   36  135   48   25 1415   33    6   22   12  215   28   77\n",
      "   52    5   14  407   16   82    2    8    4  107  117 5952   15  256\n",
      "    4    2    7 3766    5  723   36   71   43  530  476   26  400  317\n",
      "   46    7    4    2 1029   13  104   88    4  381   15  297   98   32\n",
      " 2071   56   26  141    6  194 7486   18    4  226   22   21  134  476\n",
      "   26  480    5  144   30 5535   18   51   36   28  224   92   25  104\n",
      "    4  226   65   16   38 1334   88   12   16  283    5   16 4472  113\n",
      "  103   32   15   16 5345   19  178   32    0    0    0    0    0    0\n",
      "    0    0    0    0    0    0    0    0    0    0    0    0    0    0\n",
      "    0    0    0    0    0    0    0    0    0    0    0    0    0    0\n",
      "    0    0    0    0]\n"
     ]
    }
   ],
   "source": [
    "train_data = keras.preprocessing.sequence.pad_sequences(train_data,\n",
    "                                                        value=word_index['<PAD>'],\n",
    "                                                        padding='post',\n",
    "                                                        maxlen=256)\n",
    "\n",
    "test_data = keras.preprocessing.sequence.pad_sequences(test_data,\n",
    "                                                       value=word_index['<PAD>'],\n",
    "                                                       padding='post',\n",
    "                                                       maxlen=256)\n",
    "print(len(train_data[0]),len(test_data[0]))\n",
    "print(train_data[0])"
   ]
  },
  {
   "cell_type": "markdown",
   "metadata": {},
   "source": [
    " * Tensorflow Keras API를 통해 모델에 대한 정의\n",
    " * 입력 Size와 학습시킬 Layer의 크기와 Activation Function 정의"
   ]
  },
  {
   "cell_type": "code",
   "execution_count": 29,
   "metadata": {
    "ExecuteTime": {
     "end_time": "2021-02-17T06:35:29.042062Z",
     "start_time": "2021-02-17T06:35:28.972273Z"
    }
   },
   "outputs": [
    {
     "name": "stdout",
     "output_type": "stream",
     "text": [
      "Model: \"sequential_2\"\n",
      "_________________________________________________________________\n",
      "Layer (type)                 Output Shape              Param #   \n",
      "=================================================================\n",
      "embedding (Embedding)        (None, None, 16)          160000    \n",
      "_________________________________________________________________\n",
      "global_average_pooling1d (Gl (None, 16)                0         \n",
      "_________________________________________________________________\n",
      "dense_4 (Dense)              (None, 16)                272       \n",
      "_________________________________________________________________\n",
      "dense_5 (Dense)              (None, 1)                 17        \n",
      "=================================================================\n",
      "Total params: 160,289\n",
      "Trainable params: 160,289\n",
      "Non-trainable params: 0\n",
      "_________________________________________________________________\n"
     ]
    }
   ],
   "source": [
    "vocab_size = 10000\n",
    "\n",
    "model = keras.Sequential()\n",
    "model.add(keras.layers.Embedding(vocab_size,16))\n",
    "model.add(keras.layers.GlobalAveragePooling1D())\n",
    "model.add(keras.layers.Dense(16,activation=tf.nn.relu))\n",
    "model.add(keras.layers.Dense(1,activation=tf.nn.sigmoid))\n",
    "model.summary()"
   ]
  },
  {
   "cell_type": "markdown",
   "metadata": {},
   "source": [
    " * Adam Optimizer와 Cross Entropy Loss 선언\n"
   ]
  },
  {
   "cell_type": "code",
   "execution_count": 30,
   "metadata": {
    "ExecuteTime": {
     "end_time": "2021-02-17T06:38:52.808253Z",
     "start_time": "2021-02-17T06:38:52.791292Z"
    }
   },
   "outputs": [],
   "source": [
    "model.compile(optimizer='adam',\n",
    "              loss='binary_crossentropy',\n",
    "              metrics=['accuracy'])"
   ]
  },
  {
   "cell_type": "markdown",
   "metadata": {},
   "source": [
    " * 모델을 평가할 Test 데이터에 대한 정의(10000을 기준으로 학습과 평가 수행)"
   ]
  },
  {
   "cell_type": "code",
   "execution_count": 31,
   "metadata": {
    "ExecuteTime": {
     "end_time": "2021-02-17T06:43:56.191923Z",
     "start_time": "2021-02-17T06:43:27.774940Z"
    }
   },
   "outputs": [
    {
     "name": "stdout",
     "output_type": "stream",
     "text": [
      "Epoch 1/40\n",
      "30/30 [==============================] - 1s 27ms/step - loss: 0.6923 - accuracy: 0.5355 - val_loss: 0.6906 - val_accuracy: 0.6589\n",
      "Epoch 2/40\n",
      "30/30 [==============================] - 1s 27ms/step - loss: 0.6873 - accuracy: 0.7129 - val_loss: 0.6835 - val_accuracy: 0.7414\n",
      "Epoch 3/40\n",
      "30/30 [==============================] - 1s 23ms/step - loss: 0.6762 - accuracy: 0.7564 - val_loss: 0.6693 - val_accuracy: 0.7444\n",
      "Epoch 4/40\n",
      "30/30 [==============================] - 1s 24ms/step - loss: 0.6561 - accuracy: 0.7729 - val_loss: 0.6461 - val_accuracy: 0.7646\n",
      "Epoch 5/40\n",
      "30/30 [==============================] - 1s 24ms/step - loss: 0.6255 - accuracy: 0.7867 - val_loss: 0.6132 - val_accuracy: 0.7778\n",
      "Epoch 6/40\n",
      "30/30 [==============================] - 1s 25ms/step - loss: 0.5856 - accuracy: 0.8049 - val_loss: 0.5741 - val_accuracy: 0.7979\n",
      "Epoch 7/40\n",
      "30/30 [==============================] - 1s 22ms/step - loss: 0.5397 - accuracy: 0.8227 - val_loss: 0.5312 - val_accuracy: 0.8146\n",
      "Epoch 8/40\n",
      "30/30 [==============================] - 1s 24ms/step - loss: 0.4931 - accuracy: 0.8378 - val_loss: 0.4910 - val_accuracy: 0.8277\n",
      "Epoch 9/40\n",
      "30/30 [==============================] - 1s 21ms/step - loss: 0.4480 - accuracy: 0.8563 - val_loss: 0.4512 - val_accuracy: 0.8405\n",
      "Epoch 10/40\n",
      "30/30 [==============================] - 1s 20ms/step - loss: 0.4079 - accuracy: 0.8691 - val_loss: 0.4191 - val_accuracy: 0.8479\n",
      "Epoch 11/40\n",
      "30/30 [==============================] - 1s 21ms/step - loss: 0.3737 - accuracy: 0.8787 - val_loss: 0.3924 - val_accuracy: 0.8562\n",
      "Epoch 12/40\n",
      "30/30 [==============================] - 1s 22ms/step - loss: 0.3447 - accuracy: 0.8866 - val_loss: 0.3711 - val_accuracy: 0.8621\n",
      "Epoch 13/40\n",
      "30/30 [==============================] - 1s 21ms/step - loss: 0.3203 - accuracy: 0.8928 - val_loss: 0.3548 - val_accuracy: 0.8660\n",
      "Epoch 14/40\n",
      "30/30 [==============================] - 1s 23ms/step - loss: 0.2998 - accuracy: 0.8985 - val_loss: 0.3406 - val_accuracy: 0.8706\n",
      "Epoch 15/40\n",
      "30/30 [==============================] - 1s 21ms/step - loss: 0.2818 - accuracy: 0.9053 - val_loss: 0.3292 - val_accuracy: 0.8719\n",
      "Epoch 16/40\n",
      "30/30 [==============================] - 1s 22ms/step - loss: 0.2659 - accuracy: 0.9077 - val_loss: 0.3197 - val_accuracy: 0.8757\n",
      "Epoch 17/40\n",
      "30/30 [==============================] - 1s 20ms/step - loss: 0.2517 - accuracy: 0.9144 - val_loss: 0.3124 - val_accuracy: 0.8777\n",
      "Epoch 18/40\n",
      "30/30 [==============================] - 1s 21ms/step - loss: 0.2390 - accuracy: 0.9185 - val_loss: 0.3060 - val_accuracy: 0.8792\n",
      "Epoch 19/40\n",
      "30/30 [==============================] - 1s 21ms/step - loss: 0.2275 - accuracy: 0.9213 - val_loss: 0.3010 - val_accuracy: 0.8802\n",
      "Epoch 20/40\n",
      "30/30 [==============================] - 1s 24ms/step - loss: 0.2167 - accuracy: 0.9247 - val_loss: 0.2971 - val_accuracy: 0.8822\n",
      "Epoch 21/40\n",
      "30/30 [==============================] - 1s 22ms/step - loss: 0.2068 - accuracy: 0.9301 - val_loss: 0.2941 - val_accuracy: 0.8826\n",
      "Epoch 22/40\n",
      "30/30 [==============================] - 1s 21ms/step - loss: 0.1980 - accuracy: 0.9328 - val_loss: 0.2905 - val_accuracy: 0.8835\n",
      "Epoch 23/40\n",
      "30/30 [==============================] - 1s 22ms/step - loss: 0.1895 - accuracy: 0.9365 - val_loss: 0.2885 - val_accuracy: 0.8839\n",
      "Epoch 24/40\n",
      "30/30 [==============================] - 1s 21ms/step - loss: 0.1813 - accuracy: 0.9405 - val_loss: 0.2869 - val_accuracy: 0.8843\n",
      "Epoch 25/40\n",
      "30/30 [==============================] - 1s 21ms/step - loss: 0.1737 - accuracy: 0.9440 - val_loss: 0.2861 - val_accuracy: 0.8843\n",
      "Epoch 26/40\n",
      "30/30 [==============================] - 1s 24ms/step - loss: 0.1671 - accuracy: 0.9458 - val_loss: 0.2855 - val_accuracy: 0.8846\n",
      "Epoch 27/40\n",
      "30/30 [==============================] - 1s 22ms/step - loss: 0.1599 - accuracy: 0.9491 - val_loss: 0.2853 - val_accuracy: 0.8855\n",
      "Epoch 28/40\n",
      "30/30 [==============================] - 1s 21ms/step - loss: 0.1541 - accuracy: 0.9521 - val_loss: 0.2852 - val_accuracy: 0.8851\n",
      "Epoch 29/40\n",
      "30/30 [==============================] - 1s 20ms/step - loss: 0.1478 - accuracy: 0.9552 - val_loss: 0.2855 - val_accuracy: 0.8860\n",
      "Epoch 30/40\n",
      "30/30 [==============================] - 1s 21ms/step - loss: 0.1422 - accuracy: 0.9575 - val_loss: 0.2868 - val_accuracy: 0.8853\n",
      "Epoch 31/40\n",
      "30/30 [==============================] - 1s 21ms/step - loss: 0.1368 - accuracy: 0.9591 - val_loss: 0.2872 - val_accuracy: 0.8856\n",
      "Epoch 32/40\n",
      "30/30 [==============================] - 1s 24ms/step - loss: 0.1315 - accuracy: 0.9618 - val_loss: 0.2888 - val_accuracy: 0.8863\n",
      "Epoch 33/40\n",
      "30/30 [==============================] - 1s 21ms/step - loss: 0.1266 - accuracy: 0.9639 - val_loss: 0.2900 - val_accuracy: 0.8861\n",
      "Epoch 34/40\n",
      "30/30 [==============================] - 1s 21ms/step - loss: 0.1222 - accuracy: 0.9647 - val_loss: 0.2922 - val_accuracy: 0.8854\n",
      "Epoch 35/40\n",
      "30/30 [==============================] - 1s 20ms/step - loss: 0.1176 - accuracy: 0.9669 - val_loss: 0.2945 - val_accuracy: 0.8831\n",
      "Epoch 36/40\n",
      "30/30 [==============================] - 1s 22ms/step - loss: 0.1133 - accuracy: 0.9688 - val_loss: 0.2963 - val_accuracy: 0.8844\n",
      "Epoch 37/40\n",
      "30/30 [==============================] - 1s 22ms/step - loss: 0.1092 - accuracy: 0.9697 - val_loss: 0.2985 - val_accuracy: 0.8843\n",
      "Epoch 38/40\n",
      "30/30 [==============================] - 1s 22ms/step - loss: 0.1048 - accuracy: 0.9714 - val_loss: 0.3007 - val_accuracy: 0.8839\n",
      "Epoch 39/40\n",
      "30/30 [==============================] - 1s 22ms/step - loss: 0.1010 - accuracy: 0.9730 - val_loss: 0.3045 - val_accuracy: 0.8835\n",
      "Epoch 40/40\n",
      "30/30 [==============================] - 1s 22ms/step - loss: 0.0977 - accuracy: 0.9738 - val_loss: 0.3063 - val_accuracy: 0.8826\n"
     ]
    }
   ],
   "source": [
    "x_val = train_data[:10000]\n",
    "partial_x_train = train_data[10000:]\n",
    "\n",
    "y_val = train_labels[:10000]\n",
    "partial_y_train = train_labels[10000:]\n",
    "\n",
    "history = model.fit(partial_x_train,\n",
    "                    partial_y_train,\n",
    "                    epochs=40,\n",
    "                    batch_size=512,\n",
    "                    validation_data=(x_val,y_val),\n",
    "                    verbose=1\n",
    "                    )"
   ]
  },
  {
   "cell_type": "code",
   "execution_count": 32,
   "metadata": {
    "ExecuteTime": {
     "end_time": "2021-02-17T06:44:52.991783Z",
     "start_time": "2021-02-17T06:44:51.860824Z"
    }
   },
   "outputs": [
    {
     "name": "stdout",
     "output_type": "stream",
     "text": [
      "782/782 [==============================] - 1s 1ms/step - loss: 0.3261 - accuracy: 0.8730\n",
      "[0.3261282742023468, 0.8729599714279175]\n"
     ]
    }
   ],
   "source": [
    "results = model.evaluate(test_data,test_labels)\n",
    "print(results)"
   ]
  },
  {
   "cell_type": "code",
   "execution_count": null,
   "metadata": {},
   "outputs": [],
   "source": []
  }
 ],
 "metadata": {
  "kernelspec": {
   "display_name": "simon_env",
   "language": "python",
   "name": "simon_env"
  },
  "language_info": {
   "codemirror_mode": {
    "name": "ipython",
    "version": 3
   },
   "file_extension": ".py",
   "mimetype": "text/x-python",
   "name": "python",
   "nbconvert_exporter": "python",
   "pygments_lexer": "ipython3",
   "version": "3.8.3"
  },
  "toc": {
   "base_numbering": 1,
   "nav_menu": {},
   "number_sections": true,
   "sideBar": true,
   "skip_h1_title": false,
   "title_cell": "Table of Contents",
   "title_sidebar": "Contents",
   "toc_cell": false,
   "toc_position": {},
   "toc_section_display": true,
   "toc_window_display": false
  },
  "varInspector": {
   "cols": {
    "lenName": 16,
    "lenType": 16,
    "lenVar": 40
   },
   "kernels_config": {
    "python": {
     "delete_cmd_postfix": "",
     "delete_cmd_prefix": "del ",
     "library": "var_list.py",
     "varRefreshCmd": "print(var_dic_list())"
    },
    "r": {
     "delete_cmd_postfix": ") ",
     "delete_cmd_prefix": "rm(",
     "library": "var_list.r",
     "varRefreshCmd": "cat(var_dic_list()) "
    }
   },
   "types_to_exclude": [
    "module",
    "function",
    "builtin_function_or_method",
    "instance",
    "_Feature"
   ],
   "window_display": false
  }
 },
 "nbformat": 4,
 "nbformat_minor": 4
}
