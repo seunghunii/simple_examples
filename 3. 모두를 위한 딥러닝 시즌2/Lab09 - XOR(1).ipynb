{
 "cells": [
  {
   "cell_type": "markdown",
   "metadata": {},
   "source": [
    "Lab09 - XOR. Logistic Regression - Eager Execution\n",
    " * XOR문제를 Logistic Regression을 통해 풀어보도록 하겠습니다."
   ]
  },
  {
   "cell_type": "markdown",
   "metadata": {},
   "source": [
    "# 기본 Library 선언 및 Tensorflow 버전 확인"
   ]
  },
  {
   "cell_type": "code",
   "execution_count": 19,
   "metadata": {
    "ExecuteTime": {
     "end_time": "2021-02-23T08:33:51.396274Z",
     "start_time": "2021-02-23T08:33:51.375331Z"
    }
   },
   "outputs": [
    {
     "data": {
      "text/plain": [
       "'2.3.1'"
      ]
     },
     "execution_count": 19,
     "metadata": {},
     "output_type": "execute_result"
    }
   ],
   "source": [
    "import numpy as np\n",
    "import matplotlib.pyplot as plt\n",
    "%matplotlib inline\n",
    "import tensorflow as tf\n",
    "\n",
    "tf.random.set_seed(777)\n",
    "tf.__version__"
   ]
  },
  {
   "cell_type": "markdown",
   "metadata": {},
   "source": [
    "# 강의 Data\n",
    " * x_data가 2차원 배열이기에 2차원 공간에 표현하여 x1과 x2를 기준으로 y_data를 0과 1로 구분하는 예제입니다.\n",
    " * 붉은색과 푸른색으로 0과 1을 표시해보도록 하겠습니다."
   ]
  },
  {
   "cell_type": "code",
   "execution_count": 20,
   "metadata": {
    "ExecuteTime": {
     "end_time": "2021-02-23T08:33:51.907862Z",
     "start_time": "2021-02-23T08:33:51.398268Z"
    }
   },
   "outputs": [
    {
     "data": {
      "text/plain": [
       "Text(0, 0.5, 'x2')"
      ]
     },
     "execution_count": 20,
     "metadata": {},
     "output_type": "execute_result"
    },
    {
     "data": {
      "image/png": "[encoded data removed]",
      "text/plain": [
       "<Figure size 432x288 with 1 Axes>"
      ]
     },
     "metadata": {
      "needs_background": "light"
     },
     "output_type": "display_data"
    }
   ],
   "source": [
    "x_data = [[0,0],\n",
    "          [0,1],\n",
    "          [1,0],\n",
    "          [1,1]]\n",
    "y_data = [[0],\n",
    "          [1],\n",
    "          [1],\n",
    "          [0]]\n",
    "\n",
    "plt.scatter(x_data[0][0],x_data[0][1],c='red',marker='^')\n",
    "plt.scatter(x_data[3][0],x_data[3][1],c='red',marker='^')\n",
    "plt.scatter(x_data[1][0],x_data[1][1],c='blue',marker='^')\n",
    "plt.scatter(x_data[2][0],x_data[2][1],c='blue',marker='^')\n",
    "\n",
    "plt.xlabel('x1')\n",
    "plt.ylabel('x2')"
   ]
  },
  {
   "cell_type": "markdown",
   "metadata": {},
   "source": [
    "# Tensorflow Eager\n",
    " * Tensorflow Data API를 통해 학습시킬 값들을 담는다. (Batch Size는 한번에 학습시킬 Size로 정한다)\n",
    " * Preprocess function으로 Features, labels는 실제 학습에 쓰일 Data 연산을 위해 Type을 맞춰준다."
   ]
  },
  {
   "cell_type": "code",
   "execution_count": 21,
   "metadata": {
    "ExecuteTime": {
     "end_time": "2021-02-23T08:33:51.939267Z",
     "start_time": "2021-02-23T08:33:51.914843Z"
    }
   },
   "outputs": [],
   "source": [
    "dataset = tf.data.Dataset.from_tensor_slices((x_data,y_data)).batch(len(x_data))\n",
    "\n",
    "def preprocess_data(features, labels):\n",
    "    features = tf.cast(features,tf.float32)\n",
    "    labels = tf.cast(labels,tf.float32)\n",
    "    return features, labels"
   ]
  },
  {
   "cell_type": "markdown",
   "metadata": {},
   "source": [
    "1) Logistic Regression으로 XOR모델을 만들어 보겠습니다.\n",
    "\n",
    "W와 b는 학습을 통해 생성되는 모델에 쓰이는 Weight와 Bias(초기값을 Variable = 0이나 Random 값으로 가능."
   ]
  },
  {
   "cell_type": "code",
   "execution_count": 22,
   "metadata": {
    "ExecuteTime": {
     "end_time": "2021-02-23T08:33:51.971110Z",
     "start_time": "2021-02-23T08:33:51.945172Z"
    }
   },
   "outputs": [
    {
     "name": "stdout",
     "output_type": "stream",
     "text": [
      "W = [[0.]\n",
      " [0.]], b = [0.]\n"
     ]
    }
   ],
   "source": [
    "W = tf.Variable(tf.zeros((2,1)),name='weight')\n",
    "b = tf.Variable(tf.zeros((1,)),name='bias')\n",
    "print(\"W = {}, b = {}\".format(W.numpy(),b.numpy()))"
   ]
  },
  {
   "cell_type": "markdown",
   "metadata": {},
   "source": [
    "Sigmoid 함수를 가설로 선언합니다.\n",
    " * Sigmoid는 아래 그래프와 같이 0과 1의 값만을 리턴합니다.\n",
    " * tf.sigmoid(tf.matmul(X,W) + b)와 같습니다."
   ]
  },
  {
   "cell_type": "markdown",
   "metadata": {},
   "source": [
    "<img src=\"https://latex.codecogs.com/gif.latex?sigmoid(x)&space;=&space;\\frac{1}{1&plus;e^{-x}}\" title=\"sigmoid(x) = \\frac{1}{1+e^{-x}}\" />"
   ]
  },
  {
   "cell_type": "code",
   "execution_count": 23,
   "metadata": {
    "ExecuteTime": {
     "end_time": "2021-02-23T08:33:51.987067Z",
     "start_time": "2021-02-23T08:33:51.978084Z"
    }
   },
   "outputs": [],
   "source": [
    "def logistic_regression(features):\n",
    "    hypothesis  = tf.divide(1., 1. + tf.exp(tf.matmul(features, W) + b))\n",
    "    return hypothesis"
   ]
  },
  {
   "cell_type": "markdown",
   "metadata": {},
   "source": [
    "가설을 검증할 Cost 함수를 정의합니다.\n",
    "\n",
    "<img src=\"https://latex.codecogs.com/gif.latex?Cost(h_\\theta(x),y)&space;=&space;\\begin{Bmatrix}&space;-log(h_\\theta(x))\\quad&space;if\\;y=1&space;\\\\&space;-log(1-h_\\theta(x))\\quad&space;if\\;y=0&space;\\end{Bmatrix}\" title=\"Cost(h_\\theta(x),y) = \\begin{Bmatrix} -log(h_\\theta(x))\\quad if\\;y=1 \\\\ -log(1-h_\\theta(x))\\quad if\\;y=0 \\end{Bmatrix}\" />\n",
    "\n",
    " * 위 두 수식을 합치면 아래와 같습니다.\n",
    " <img src=\"https://latex.codecogs.com/gif.latex?Cost(h_\\theta(x),y)&space;=&space;-ylog(h_\\theta(x))&space;-&space;(1-y)log(1-h_\\theta(x))\" title=\"Cost(h_\\theta(x),y) = -ylog(h_\\theta(x)) - (1-y)log(1-h_\\theta(x))\" />"
   ]
  },
  {
   "cell_type": "code",
   "execution_count": 24,
   "metadata": {
    "ExecuteTime": {
     "end_time": "2021-02-23T08:33:52.017099Z",
     "start_time": "2021-02-23T08:33:51.993043Z"
    }
   },
   "outputs": [],
   "source": [
    "def loss_fn(hypothesis,features,labels):\n",
    "    cost = -tf.reduce_mean(labels * tf.math.log(logistic_regression(features)) + (1-labels) * tf.math.log(1-hypothesis))\n",
    "    return cost\n",
    "\n",
    "optimizer = tf.keras.optimizers.SGD(learning_rate=0.01)"
   ]
  },
  {
   "cell_type": "markdown",
   "metadata": {},
   "source": [
    "추론한 값은 0.5를 기준(Sigmoid 그래프 참조)로 0과 1의 값을 리턴합니다.\n",
    "\n",
    " * Sigmoid 함수를 통해 예측값이 0.5보다 크면 1을 반환하고 0.5보다 작으면 0으로 반환합니다."
   ]
  },
  {
   "cell_type": "code",
   "execution_count": 25,
   "metadata": {
    "ExecuteTime": {
     "end_time": "2021-02-23T08:33:52.048897Z",
     "start_time": "2021-02-23T08:33:52.023020Z"
    }
   },
   "outputs": [],
   "source": [
    "def accuracy_fn(hypothesis,labels):\n",
    "    predicted = tf.cast(hypothesis > 0.5,dtype=tf.float32)\n",
    "    accuracy = tf.reduce_mean(tf.cast(tf.equal(predicted,labels),dtype=tf.float32))\n",
    "    return accuracy"
   ]
  },
  {
   "cell_type": "markdown",
   "metadata": {},
   "source": [
    "GradientTape를 통해 경사값을 계산합니다."
   ]
  },
  {
   "cell_type": "code",
   "execution_count": 26,
   "metadata": {
    "ExecuteTime": {
     "end_time": "2021-02-23T08:33:52.079814Z",
     "start_time": "2021-02-23T08:33:52.062003Z"
    }
   },
   "outputs": [],
   "source": [
    "def grad(hypothesis, features, labels):\n",
    "    with tf.GradientTape() as tape:\n",
    "        loss_value = loss_fn(logistic_regression(features),features,labels)\n",
    "    return tape.gradient(loss_value, [W,b])"
   ]
  },
  {
   "cell_type": "markdown",
   "metadata": {},
   "source": [
    "Tensorflow를 통한 실행을 위해 Session을 선언합니다.\n",
    "\n",
    " * 위의 Data를 Cost 함수를 통해 학습시킨 후 모델을 생성합니다."
   ]
  },
  {
   "cell_type": "code",
   "execution_count": 27,
   "metadata": {
    "ExecuteTime": {
     "end_time": "2021-02-23T08:34:06.045694Z",
     "start_time": "2021-02-23T08:33:52.085794Z"
    }
   },
   "outputs": [
    {
     "name": "stdout",
     "output_type": "stream",
     "text": [
      "iter: 0,Loss: 0.6931\n",
      "iter: 100,Loss: 0.6931\n",
      "iter: 200,Loss: 0.6931\n",
      "iter: 300,Loss: 0.6931\n",
      "iter: 400,Loss: 0.6931\n",
      "iter: 500,Loss: 0.6931\n",
      "iter: 600,Loss: 0.6931\n",
      "iter: 700,Loss: 0.6931\n",
      "iter: 800,Loss: 0.6931\n",
      "iter: 900,Loss: 0.6931\n",
      "iter: 1000,Loss: 0.6931\n",
      "W = [[0.]\n",
      " [0.]],B = [0.]\n",
      "Test Accuracy: 0.5000\n"
     ]
    }
   ],
   "source": [
    "Epochs = 1001\n",
    "\n",
    "for step in range(Epochs):\n",
    "    for features, labels in dataset:\n",
    "        features, labels = preprocess_data(features,labels)\n",
    "        grads = grad(logistic_regression(features),features,labels)\n",
    "        optimizer.apply_gradients(grads_and_vars=zip(grads,[W,b]))\n",
    "        if step % 100 == 0:\n",
    "            print('iter: {},Loss: {:.4f}'.format(step,loss_fn(logistic_regression(features),features,labels)))\n",
    "            \n",
    "print('W = {},B = {}'.format(W.numpy(),b.numpy()))\n",
    "x_data, y_data = preprocess_data(x_data,y_data)\n",
    "test_acc = accuracy_fn(logistic_regression(x_data),y_data)\n",
    "print('Test Accuracy: {:.4f}'.format(test_acc))"
   ]
  }
 ],
 "metadata": {
  "kernelspec": {
   "display_name": "simon_env",
   "language": "python",
   "name": "simon_env"
  },
  "language_info": {
   "codemirror_mode": {
    "name": "ipython",
    "version": 3
   },
   "file_extension": ".py",
   "mimetype": "text/x-python",
   "name": "python",
   "nbconvert_exporter": "python",
   "pygments_lexer": "ipython3",
   "version": "3.8.3"
  },
  "toc": {
   "base_numbering": 1,
   "nav_menu": {},
   "number_sections": true,
   "sideBar": true,
   "skip_h1_title": false,
   "title_cell": "Table of Contents",
   "title_sidebar": "Contents",
   "toc_cell": false,
   "toc_position": {},
   "toc_section_display": true,
   "toc_window_display": false
  },
  "varInspector": {
   "cols": {
    "lenName": 16,
    "lenType": 16,
    "lenVar": 40
   },
   "kernels_config": {
    "python": {
     "delete_cmd_postfix": "",
     "delete_cmd_prefix": "del ",
     "library": "var_list.py",
     "varRefreshCmd": "print(var_dic_list())"
    },
    "r": {
     "delete_cmd_postfix": ") ",
     "delete_cmd_prefix": "rm(",
     "library": "var_list.r",
     "varRefreshCmd": "cat(var_dic_list()) "
    }
   },
   "types_to_exclude": [
    "module",
    "function",
    "builtin_function_or_method",
    "instance",
    "_Feature"
   ],
   "window_display": false
  }
 },
 "nbformat": 4,
 "nbformat_minor": 4
}
