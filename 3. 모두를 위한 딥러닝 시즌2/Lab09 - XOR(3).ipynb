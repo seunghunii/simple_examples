{
 "cells": [
  {
   "cell_type": "markdown",
   "metadata": {},
   "source": [
    "Lab09 - XOR. Logistic Regression - Eager Execution\n",
    " * XOR문제를 Deep Neural Network을 통해 풀어보도록 하겠습니다."
   ]
  },
  {
   "cell_type": "markdown",
   "metadata": {},
   "source": [
    "# 기본 Library 선언 및 Tensorflow 버전 확인"
   ]
  },
  {
   "cell_type": "code",
   "execution_count": 2,
   "metadata": {
    "ExecuteTime": {
     "end_time": "2021-02-23T17:35:04.197637Z",
     "start_time": "2021-02-23T17:34:50.617121Z"
    }
   },
   "outputs": [
    {
     "data": {
      "text/plain": [
       "'2.3.1'"
      ]
     },
     "execution_count": 2,
     "metadata": {},
     "output_type": "execute_result"
    }
   ],
   "source": [
    "import numpy as np\n",
    "import matplotlib.pyplot as plt\n",
    "%matplotlib inline\n",
    "import tensorflow as tf\n",
    "\n",
    "tf.random.set_seed(777)\n",
    "tf.__version__"
   ]
  },
  {
   "cell_type": "markdown",
   "metadata": {},
   "source": [
    "# 강의 Data\n",
    " * x_data가 2차원 배열이기에 2차원 공간에 표현하여 x1과 x2를 기준으로 y_data를 0과 1로 구분하는 예제입니다.\n",
    " * 붉은색과 푸른색으로 0과 1을 표시해보도록 하겠습니다."
   ]
  },
  {
   "cell_type": "code",
   "execution_count": 3,
   "metadata": {
    "ExecuteTime": {
     "end_time": "2021-02-23T17:35:04.528240Z",
     "start_time": "2021-02-23T17:35:04.200628Z"
    }
   },
   "outputs": [
    {
     "data": {
      "text/plain": [
       "Text(0, 0.5, 'x2')"
      ]
     },
     "execution_count": 3,
     "metadata": {},
     "output_type": "execute_result"
    },
    {
     "data": {
      "image/png": "[encoded data removed]",
      "text/plain": [
       "<Figure size 432x288 with 1 Axes>"
      ]
     },
     "metadata": {
      "needs_background": "light"
     },
     "output_type": "display_data"
    }
   ],
   "source": [
    "x_data = [[0,0],\n",
    "          [0,1],\n",
    "          [1,0],\n",
    "          [1,1]]\n",
    "y_data = [[0],\n",
    "          [1],\n",
    "          [1],\n",
    "          [0]]\n",
    "\n",
    "plt.scatter(x_data[0][0],x_data[0][1],c='red',marker='^')\n",
    "plt.scatter(x_data[3][0],x_data[3][1],c='red',marker='^')\n",
    "plt.scatter(x_data[1][0],x_data[1][1],c='blue',marker='^')\n",
    "plt.scatter(x_data[2][0],x_data[2][1],c='blue',marker='^')\n",
    "\n",
    "plt.xlabel('x1')\n",
    "plt.ylabel('x2')"
   ]
  },
  {
   "cell_type": "markdown",
   "metadata": {},
   "source": [
    "# Tensorflow Eager"
   ]
  },
  {
   "cell_type": "markdown",
   "metadata": {},
   "source": [
    " * Tensorflow data API를 통해 학습시킬 값들을 담는다. (Batch Size는 한번에 학습시킬 Size로 정한다.)\n",
    " * features, labels는 실제 학습에 쓰일 Data(연산을 위해 Type을 맞춘다.)"
   ]
  },
  {
   "cell_type": "code",
   "execution_count": 6,
   "metadata": {
    "ExecuteTime": {
     "end_time": "2021-02-23T17:36:35.553712Z",
     "start_time": "2021-02-23T17:36:35.517809Z"
    }
   },
   "outputs": [],
   "source": [
    "dataset = tf.data.Dataset.from_tensor_slices((x_data,y_data)).batch(len(x_data))\n",
    "nb_classes = 10\n",
    "\n",
    "class wide_deep_nn():\n",
    "    def __init__(self,nb_classes):\n",
    "        super(wide_deep_nn,self).__init__()\n",
    "        \n",
    "        self.W1 = tf.Variable(tf.random.normal((2,nb_classes)),name='weight1')\n",
    "        self.b1 = tf.Variable(tf.random.normal((nb_classes,)),name='bias1')\n",
    "        \n",
    "        self.W2 = tf.Variable(tf.random.normal((nb_classes,nb_classes)),name='weight2')\n",
    "        self.b2 = tf.Variable(tf.random.normal((nb_classes,)),name='bias2')\n",
    "        \n",
    "        self.W3 = tf.Variable(tf.random.normal((nb_classes,nb_classes)),name='weight3')\n",
    "        self.b3 = tf.Variable(tf.random.normal((nb_classes,)),name='bias3')\n",
    "        \n",
    "        self.W4 = tf.Variable(tf.random.normal((nb_classes,1)),name='weight4')\n",
    "        self.b4 = tf.Variable(tf.random.normal((1,)),name='bias4')\n",
    "        \n",
    "        self.variables = [self.W1,self.b1,self.W2,self.b2,self.W3,self.b3,self.W4,self.b4]\n",
    "    \n",
    "    def preprocess_data(self,features,labels):\n",
    "        features = tf.cast(features,tf.float32)\n",
    "        labels = tf.cast(labels,tf.float32)\n",
    "        return features, labels\n",
    "    \n",
    "    def deep_nn(self,features):\n",
    "        layer1 = tf.sigmoid(tf.matmul(features,self.W1) + self.b1)\n",
    "        layer2 = tf.sigmoid(tf.matmul(layer1,self.W2) + self.b2)\n",
    "        layer3 = tf.sigmoid(tf.matmul(layer2,self.W3) + self.b3)\n",
    "        hypothesis = tf.sigmoid(tf.matmul(layer3,self.W4) + self.b4)\n",
    "        return hypothesis\n",
    "    \n",
    "    def loss_fn(self,hypothesis,features,labels):\n",
    "        cost = -tf.reduce_mean(labels * tf.math.log(hypothesis) + (1-labels) * tf.math.log(1 - hypothesis))\n",
    "        return cost\n",
    "    \n",
    "    def accuracy_fn(self,hypothesis,labels):\n",
    "        predicted = tf.cast(hypothesis > 0.5,dtype=tf.float32)\n",
    "        accuracy = tf.reduce_mean(tf.cast(tf.equal(predicted,labels),dtype=tf.float32))\n",
    "        return accuracy\n",
    "    \n",
    "    def grad(self,hypothesis,features,labels):\n",
    "        with tf.GradientTape() as tape:\n",
    "            loss_value = self.loss_fn(self.deep_nn(features),features,labels)\n",
    "        return tape.gradient(loss_value,self.variables)\n",
    "    \n",
    "    def fit(self,dataset,epochs=20000,verbose=500):\n",
    "        optimizer = tf.keras.optimizers.SGD(learning_rate=0.01)\n",
    "        for step in range(epochs):\n",
    "            for features, labels in dataset:\n",
    "                features, labels = self.preprocess_data(features,labels)\n",
    "                grads = self.grad(self.deep_nn(features),features,labels)\n",
    "                optimizer.apply_gradients(grads_and_vars=zip(grads,self.variables))\n",
    "                if step % verbose == 0:\n",
    "                    print('iter: {}, Loss: {:.4f}'.format(step,self.loss_fn(self.deep_nn(features),features,labels)))\n",
    "    \n",
    "    def test_model(self,x_data,y_data):\n",
    "        x_data, y_data = self.preprocess_data(x_data,y_data)\n",
    "        test_acc = self.accuracy_fn(self.deep_nn(x_data),y_data)\n",
    "        print(\"Testset Accuracy: {:.4f}\".format(test_acc))"
   ]
  },
  {
   "cell_type": "markdown",
   "metadata": {},
   "source": [
    "Deep Neural Network를 통해 XOR해결\n",
    "\n",
    " * 위의 Data를 4Layer의 Neural Network를 통해 학습시킨 후 모델을 생성합니다."
   ]
  },
  {
   "cell_type": "code",
   "execution_count": 7,
   "metadata": {
    "ExecuteTime": {
     "end_time": "2021-02-23T17:36:38.171968Z",
     "start_time": "2021-02-23T17:36:38.147018Z"
    }
   },
   "outputs": [],
   "source": [
    "model = wide_deep_nn(nb_classes)"
   ]
  },
  {
   "cell_type": "code",
   "execution_count": 8,
   "metadata": {
    "ExecuteTime": {
     "end_time": "2021-02-23T17:39:18.870598Z",
     "start_time": "2021-02-23T17:36:43.785109Z"
    }
   },
   "outputs": [
    {
     "name": "stdout",
     "output_type": "stream",
     "text": [
      "iter: 0, Loss: 0.7544\n",
      "iter: 500, Loss: 0.6839\n",
      "iter: 1000, Loss: 0.6745\n",
      "iter: 1500, Loss: 0.6621\n",
      "iter: 2000, Loss: 0.6474\n",
      "iter: 2500, Loss: 0.6311\n",
      "iter: 3000, Loss: 0.6120\n",
      "iter: 3500, Loss: 0.5883\n",
      "iter: 4000, Loss: 0.5588\n",
      "iter: 4500, Loss: 0.5223\n",
      "iter: 5000, Loss: 0.4782\n",
      "iter: 5500, Loss: 0.4274\n",
      "iter: 6000, Loss: 0.3724\n",
      "iter: 6500, Loss: 0.3170\n",
      "iter: 7000, Loss: 0.2652\n",
      "iter: 7500, Loss: 0.2197\n",
      "iter: 8000, Loss: 0.1817\n",
      "iter: 8500, Loss: 0.1509\n",
      "iter: 9000, Loss: 0.1263\n",
      "iter: 9500, Loss: 0.1068\n",
      "iter: 10000, Loss: 0.0914\n",
      "iter: 10500, Loss: 0.0790\n",
      "iter: 11000, Loss: 0.0691\n",
      "iter: 11500, Loss: 0.0609\n",
      "iter: 12000, Loss: 0.0542\n",
      "iter: 12500, Loss: 0.0486\n",
      "iter: 13000, Loss: 0.0439\n",
      "iter: 13500, Loss: 0.0400\n",
      "iter: 14000, Loss: 0.0366\n",
      "iter: 14500, Loss: 0.0336\n",
      "iter: 15000, Loss: 0.0311\n",
      "iter: 15500, Loss: 0.0288\n",
      "iter: 16000, Loss: 0.0268\n",
      "iter: 16500, Loss: 0.0251\n",
      "iter: 17000, Loss: 0.0235\n",
      "iter: 17500, Loss: 0.0221\n",
      "iter: 18000, Loss: 0.0209\n",
      "iter: 18500, Loss: 0.0197\n",
      "iter: 19000, Loss: 0.0187\n",
      "iter: 19500, Loss: 0.0178\n"
     ]
    }
   ],
   "source": [
    "model.fit(dataset)"
   ]
  },
  {
   "cell_type": "code",
   "execution_count": 9,
   "metadata": {
    "ExecuteTime": {
     "end_time": "2021-02-23T17:39:48.103221Z",
     "start_time": "2021-02-23T17:39:48.081279Z"
    }
   },
   "outputs": [
    {
     "name": "stdout",
     "output_type": "stream",
     "text": [
      "Testset Accuracy: 1.0000\n"
     ]
    }
   ],
   "source": [
    "model.test_model(x_data, y_data)"
   ]
  }
 ],
 "metadata": {
  "kernelspec": {
   "display_name": "simon_env",
   "language": "python",
   "name": "simon_env"
  },
  "language_info": {
   "codemirror_mode": {
    "name": "ipython",
    "version": 3
   },
   "file_extension": ".py",
   "mimetype": "text/x-python",
   "name": "python",
   "nbconvert_exporter": "python",
   "pygments_lexer": "ipython3",
   "version": "3.8.3"
  },
  "toc": {
   "base_numbering": 1,
   "nav_menu": {},
   "number_sections": true,
   "sideBar": true,
   "skip_h1_title": false,
   "title_cell": "Table of Contents",
   "title_sidebar": "Contents",
   "toc_cell": false,
   "toc_position": {},
   "toc_section_display": true,
   "toc_window_display": false
  },
  "varInspector": {
   "cols": {
    "lenName": 16,
    "lenType": 16,
    "lenVar": 40
   },
   "kernels_config": {
    "python": {
     "delete_cmd_postfix": "",
     "delete_cmd_prefix": "del ",
     "library": "var_list.py",
     "varRefreshCmd": "print(var_dic_list())"
    },
    "r": {
     "delete_cmd_postfix": ") ",
     "delete_cmd_prefix": "rm(",
     "library": "var_list.r",
     "varRefreshCmd": "cat(var_dic_list()) "
    }
   },
   "types_to_exclude": [
    "module",
    "function",
    "builtin_function_or_method",
    "instance",
    "_Feature"
   ],
   "window_display": false
  }
 },
 "nbformat": 4,
 "nbformat_minor": 4
}
