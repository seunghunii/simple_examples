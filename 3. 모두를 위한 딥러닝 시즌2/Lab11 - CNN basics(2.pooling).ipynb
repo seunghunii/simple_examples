{
 "cells": [
  {
   "cell_type": "markdown",
   "metadata": {},
   "source": [
    "Lab11 - CNN Basics Convolution\n",
    "\n",
    " * Most Widely used for image classification\n",
    " * Generally, it consists of convolution layer, pooling layer, and fully connected layer\n",
    " * convolution, pooling layer - feature extraction\n",
    " * fully connected layer - classification\n"
   ]
  },
  {
   "cell_type": "markdown",
   "metadata": {},
   "source": [
    "Convolution 연산에 대해서 지난번 코드에서 살펴보았습니다. 이번에는 Pooling에 대해서 설명하고, 실습합니다."
   ]
  },
  {
   "cell_type": "markdown",
   "metadata": {},
   "source": [
    "여러가지 Pooling Method가 있는데, Max Pooling과 Average Pooling이 있습니다. 이 두개가 가장 많이 쓰입니다.\n",
    "\n",
    "Max Pooling은 최대값을 취합니다. 다른 말로는 Sub sampling이라고도 합니다. 중요한 정보를 뽑아서 Size를 줄였기 때문입니다.\n",
    "\n",
    "Average Pooling은 평균을 취합니다.\n",
    "\n",
    "두개 중에서는 Max Pooling이 더 많이 쓰입니다. Convolution 연산의 결과인 Feature Map에서 큰 숫자가 나왔다는 것은 Filter가 찾아내고자 하는 값에 더 가깝다는 것을 의미하기 때문입니다."
   ]
  },
  {
   "cell_type": "markdown",
   "metadata": {},
   "source": [
    "tf.keras.layers.MaxPool2D\n",
    "\n",
    " * pool_size : pooling 할때의 filter size.(integer or tuple)\n",
    " * strides : stride(filter가 이동하는 간격. integer or tuple)\n",
    " * padding : \"Valid\"(padding을 하지 않음), \"Same\"(Input과 Output의 크기를 동일하게 유지함)\n",
    " * data_format : \"channels_last\" - (batch, height, width, channels)  / \"channels_first\" - (batch, channels, height, width)"
   ]
  },
  {
   "cell_type": "code",
   "execution_count": 1,
   "metadata": {
    "ExecuteTime": {
     "end_time": "2021-02-28T09:43:30.014704Z",
     "start_time": "2021-02-28T09:43:19.452153Z"
    }
   },
   "outputs": [],
   "source": [
    "import numpy as np\n",
    "import tensorflow as tf\n",
    "from tensorflow import keras\n",
    "import matplotlib.pyplot as plt"
   ]
  },
  {
   "cell_type": "markdown",
   "metadata": {},
   "source": [
    "# Pooling"
   ]
  },
  {
   "cell_type": "code",
   "execution_count": 2,
   "metadata": {
    "ExecuteTime": {
     "end_time": "2021-02-28T09:44:00.575813Z",
     "start_time": "2021-02-28T09:44:00.498009Z"
    }
   },
   "outputs": [
    {
     "name": "stdout",
     "output_type": "stream",
     "text": [
      "(1, 1, 1, 1)\n",
      "[[[[4.]]]]\n"
     ]
    }
   ],
   "source": [
    "image = tf.constant([[[[4],[3]],\n",
    "                     [[2],[1]]]],dtype=np.float32)\n",
    "pool = keras.layers.MaxPool2D(pool_size=(2,2),strides=1,\n",
    "                              padding='Valid')(image)\n",
    "print(pool.shape)\n",
    "print(pool.numpy())"
   ]
  },
  {
   "cell_type": "code",
   "execution_count": 5,
   "metadata": {
    "ExecuteTime": {
     "end_time": "2021-02-28T09:47:35.720194Z",
     "start_time": "2021-02-28T09:47:35.698251Z"
    }
   },
   "outputs": [
    {
     "name": "stdout",
     "output_type": "stream",
     "text": [
      "(1, 2, 2, 1)\n",
      "[[[[4.]\n",
      "   [3.]]\n",
      "\n",
      "  [[2.]\n",
      "   [1.]]]]\n"
     ]
    },
    {
     "data": {
      "image/jpeg": "[encoded data removed]",
      "text/plain": [
       "<IPython.core.display.Image object>"
      ]
     },
     "execution_count": 5,
     "metadata": {},
     "output_type": "execute_result"
    }
   ],
   "source": [
    "image = tf.constant([[[[4],[3]],\n",
    "                     [[2],[1]]]],dtype=np.float32)\n",
    "pool = keras.layers.MaxPool2D(pool_size=(2,2),strides=1,\n",
    "                              padding='Same')(image)\n",
    "print(pool.shape)\n",
    "print(pool.numpy())\n",
    "\n",
    "from IPython.display import Image\n",
    "Image('C:/Users/rsh15/Desktop/same pooling.jpg')"
   ]
  },
  {
   "cell_type": "markdown",
   "metadata": {},
   "source": [
    "# With MNIST Data"
   ]
  },
  {
   "cell_type": "code",
   "execution_count": 9,
   "metadata": {
    "ExecuteTime": {
     "end_time": "2021-02-28T09:56:36.556919Z",
     "start_time": "2021-02-28T09:56:35.946422Z"
    }
   },
   "outputs": [
    {
     "data": {
      "text/plain": [
       "<matplotlib.image.AxesImage at 0x2ac804b7a30>"
      ]
     },
     "execution_count": 9,
     "metadata": {},
     "output_type": "execute_result"
    },
    {
     "data": {
      "image/png": "[encoded data removed]",
      "text/plain": [
       "<Figure size 432x288 with 1 Axes>"
      ]
     },
     "metadata": {
      "needs_background": "light"
     },
     "output_type": "display_data"
    }
   ],
   "source": [
    "mnist = keras.datasets.mnist\n",
    "class_names = ['0','1','2','3','4','5','6','7','8','9']\n",
    "\n",
    "(train_images, train_labels), (test_images, test_labels) = mnist.load_data()\n",
    "\n",
    "train_images = train_images.astype(np.float32) / 255.\n",
    "test_images = test_images.astype(np.float32) / 255. # scaling\n",
    "\n",
    "img = train_images[0]\n",
    "plt.imshow(img,cmap='gray')"
   ]
  },
  {
   "cell_type": "code",
   "execution_count": 10,
   "metadata": {
    "ExecuteTime": {
     "end_time": "2021-02-28T09:56:37.060576Z",
     "start_time": "2021-02-28T09:56:36.622709Z"
    }
   },
   "outputs": [
    {
     "name": "stdout",
     "output_type": "stream",
     "text": [
      "(1, 14, 14, 5)\n"
     ]
    },
    {
     "data": {
      "image/png": "[encoded data removed]",
      "text/plain": [
       "<Figure size 432x288 with 5 Axes>"
      ]
     },
     "metadata": {
      "needs_background": "light"
     },
     "output_type": "display_data"
    }
   ],
   "source": [
    "img = img.reshape(-1,28,28,1) # -1은 값을 알아서 채우게 됨. 가장 첫번째니까 batch자리. 이미지 1장이니까 1이 들어가게 됨.\n",
    "img = tf.convert_to_tensor(img)\n",
    "weight_init = keras.initializers.RandomNormal(stddev=0.01)\n",
    "conv2d = keras.layers.Conv2D(filters=5,kernel_size=3,strides=(2,2),\n",
    "                             padding='Same',kernel_initializer=weight_init)(img)\n",
    "print(conv2d.shape)\n",
    "\n",
    "feature_maps = np.swapaxes(conv2d,0,3)\n",
    "for i, feature_map in enumerate(feature_maps):\n",
    "    plt.subplot(1,5,i+1), plt.imshow(feature_map.reshape(14,14),cmap='gray')"
   ]
  },
  {
   "cell_type": "code",
   "execution_count": 11,
   "metadata": {
    "ExecuteTime": {
     "end_time": "2021-02-28T09:58:06.559201Z",
     "start_time": "2021-02-28T09:58:06.015784Z"
    }
   },
   "outputs": [
    {
     "name": "stdout",
     "output_type": "stream",
     "text": [
      "(1, 7, 7, 5)\n"
     ]
    },
    {
     "data": {
      "image/png": "[encoded data removed]",
      "text/plain": [
       "<Figure size 432x288 with 5 Axes>"
      ]
     },
     "metadata": {
      "needs_background": "light"
     },
     "output_type": "display_data"
    }
   ],
   "source": [
    "pool = keras.layers.MaxPool2D(pool_size=(2,2),strides=(2,2),\n",
    "                              padding='Same')(conv2d)\n",
    "print(pool.shape)\n",
    "\n",
    "feature_maps = np.swapaxes(pool,0,3)\n",
    "for i, feature_map in enumerate(feature_maps):\n",
    "    plt.subplot(1,5,i+1), plt.imshow(feature_map.reshape(7,7),cmap='gray')"
   ]
  }
 ],
 "metadata": {
  "kernelspec": {
   "display_name": "simon_env",
   "language": "python",
   "name": "simon_env"
  },
  "language_info": {
   "codemirror_mode": {
    "name": "ipython",
    "version": 3
   },
   "file_extension": ".py",
   "mimetype": "text/x-python",
   "name": "python",
   "nbconvert_exporter": "python",
   "pygments_lexer": "ipython3",
   "version": "3.8.3"
  },
  "toc": {
   "base_numbering": 1,
   "nav_menu": {},
   "number_sections": true,
   "sideBar": true,
   "skip_h1_title": false,
   "title_cell": "Table of Contents",
   "title_sidebar": "Contents",
   "toc_cell": false,
   "toc_position": {},
   "toc_section_display": true,
   "toc_window_display": false
  },
  "varInspector": {
   "cols": {
    "lenName": 16,
    "lenType": 16,
    "lenVar": 40
   },
   "kernels_config": {
    "python": {
     "delete_cmd_postfix": "",
     "delete_cmd_prefix": "del ",
     "library": "var_list.py",
     "varRefreshCmd": "print(var_dic_list())"
    },
    "r": {
     "delete_cmd_postfix": ") ",
     "delete_cmd_prefix": "rm(",
     "library": "var_list.r",
     "varRefreshCmd": "cat(var_dic_list()) "
    }
   },
   "types_to_exclude": [
    "module",
    "function",
    "builtin_function_or_method",
    "instance",
    "_Feature"
   ],
   "window_display": false
  }
 },
 "nbformat": 4,
 "nbformat_minor": 4
}
