{
 "cells": [
  {
   "cell_type": "markdown",
   "metadata": {},
   "source": [
    "Lab12 - RNN Basics\n",
    "\n",
    " * RNN,LSTM등의 특정 Cell을 선언하고, 이를 Loop하는 방식\n",
    " * 두가지를 결합한 API를 활용하는 방식\n",
    " \n",
    "Tensorflow에서 RNN이 데이터를 전달받는 방식은\n",
    "(Batch_size, Sequence Length, Input dimension)으로 받는다."
   ]
  },
  {
   "cell_type": "markdown",
   "metadata": {},
   "source": [
    "# Setup"
   ]
  },
  {
   "cell_type": "code",
   "execution_count": 1,
   "metadata": {
    "ExecuteTime": {
     "end_time": "2021-03-04T17:27:32.664012Z",
     "start_time": "2021-03-04T17:27:17.471545Z"
    }
   },
   "outputs": [
    {
     "data": {
      "text/plain": [
       "'2.3.1'"
      ]
     },
     "execution_count": 1,
     "metadata": {},
     "output_type": "execute_result"
    }
   ],
   "source": [
    "import numpy as np\n",
    "import tensorflow as tf\n",
    "from tensorflow import keras\n",
    "from tensorflow.keras import layers\n",
    "\n",
    "tf.__version__"
   ]
  },
  {
   "cell_type": "code",
   "execution_count": 2,
   "metadata": {
    "ExecuteTime": {
     "end_time": "2021-03-04T17:28:05.116997Z",
     "start_time": "2021-03-04T17:28:05.106027Z"
    }
   },
   "outputs": [],
   "source": [
    "h = [1,0,0,0]\n",
    "e = [0,1,0,0]\n",
    "l = [0,0,1,0]\n",
    "o = [0,0,0,1]"
   ]
  },
  {
   "cell_type": "code",
   "execution_count": 3,
   "metadata": {
    "ExecuteTime": {
     "end_time": "2021-03-04T17:28:22.659061Z",
     "start_time": "2021-03-04T17:28:22.652077Z"
    }
   },
   "outputs": [],
   "source": [
    "x_data = np.array([[h]],dtype=np.float32)"
   ]
  },
  {
   "cell_type": "markdown",
   "metadata": {},
   "source": [
    "# Using Single Sequence"
   ]
  },
  {
   "cell_type": "code",
   "execution_count": 4,
   "metadata": {
    "ExecuteTime": {
     "end_time": "2021-03-04T17:28:38.973946Z",
     "start_time": "2021-03-04T17:28:38.965001Z"
    }
   },
   "outputs": [],
   "source": [
    "hidden_size=2"
   ]
  },
  {
   "cell_type": "code",
   "execution_count": 5,
   "metadata": {
    "ExecuteTime": {
     "end_time": "2021-03-04T17:29:28.541356Z",
     "start_time": "2021-03-04T17:29:28.445614Z"
    }
   },
   "outputs": [],
   "source": [
    "cell = layers.SimpleRNNCell(units=hidden_size)\n",
    "rnn = layers.RNN(cell, return_sequences=True, return_state=True)\n",
    "outputs, states = rnn(x_data)"
   ]
  },
  {
   "cell_type": "code",
   "execution_count": 6,
   "metadata": {
    "ExecuteTime": {
     "end_time": "2021-03-04T17:30:19.626298Z",
     "start_time": "2021-03-04T17:30:19.620280Z"
    }
   },
   "outputs": [],
   "source": [
    "# equivalent to above\n",
    "# rnn = layers.SimpleRNN(units=hidden_size, return_sequences=True, return_state=True)\n",
    "# outputs, states = rnn(x_data)"
   ]
  },
  {
   "cell_type": "code",
   "execution_count": 7,
   "metadata": {
    "ExecuteTime": {
     "end_time": "2021-03-04T17:31:10.561395Z",
     "start_time": "2021-03-04T17:31:10.544411Z"
    }
   },
   "outputs": [
    {
     "name": "stdout",
     "output_type": "stream",
     "text": [
      "x_data: [[[1. 0. 0. 0.]]], shape: (1, 1, 4)\n",
      "outputs: [[[-0.14987229 -0.44768575]]], shape: (1, 1, 2)\n",
      "states: [[-0.14987229 -0.44768575]], shape: (1, 2)\n"
     ]
    }
   ],
   "source": [
    "print('x_data: {}, shape: {}'.format(x_data, x_data.shape))\n",
    "print('outputs: {}, shape: {}'.format(outputs, outputs.shape))\n",
    "print('states: {}, shape: {}'.format(states, states.shape))\n",
    "\n",
    "# 같은 값이지만 다른 Shape를 갖는 것은\n",
    "# output은 전체 Sequence에 해당하는 Hidden State값을 가지고 있고,\n",
    "# State는 Sequence에 마지막 Hidden State값만 가지고 있기 때문이다."
   ]
  },
  {
   "cell_type": "markdown",
   "metadata": {},
   "source": [
    "# Multiple Sequences"
   ]
  },
  {
   "cell_type": "code",
   "execution_count": 25,
   "metadata": {
    "ExecuteTime": {
     "end_time": "2021-03-04T17:39:46.533271Z",
     "start_time": "2021-03-04T17:39:46.519321Z"
    }
   },
   "outputs": [
    {
     "name": "stdout",
     "output_type": "stream",
     "text": [
      "[[[1. 0. 0. 0.]\n",
      "  [0. 1. 0. 0.]\n",
      "  [0. 0. 1. 0.]\n",
      "  [0. 0. 1. 0.]\n",
      "  [0. 0. 0. 1.]]]\n"
     ]
    },
    {
     "data": {
      "text/plain": [
       "(1, 5, 4)"
      ]
     },
     "execution_count": 25,
     "metadata": {},
     "output_type": "execute_result"
    }
   ],
   "source": [
    "x_data = np.array([[h,e,l,l,o]], dtype=np.float32)\n",
    "print(x_data)\n",
    "x_data.shape"
   ]
  },
  {
   "cell_type": "code",
   "execution_count": 26,
   "metadata": {
    "ExecuteTime": {
     "end_time": "2021-03-04T17:39:46.685782Z",
     "start_time": "2021-03-04T17:39:46.677835Z"
    }
   },
   "outputs": [],
   "source": [
    "hidden_size = 2"
   ]
  },
  {
   "cell_type": "code",
   "execution_count": 27,
   "metadata": {
    "ExecuteTime": {
     "end_time": "2021-03-04T17:39:46.867081Z",
     "start_time": "2021-03-04T17:39:46.835131Z"
    }
   },
   "outputs": [],
   "source": [
    "rnn = layers.SimpleRNN(units=2, return_sequences=True, return_state=True)\n",
    "outputs, states = rnn(x_data)"
   ]
  },
  {
   "cell_type": "code",
   "execution_count": 28,
   "metadata": {
    "ExecuteTime": {
     "end_time": "2021-03-04T17:39:47.215874Z",
     "start_time": "2021-03-04T17:39:47.198928Z"
    }
   },
   "outputs": [
    {
     "name": "stdout",
     "output_type": "stream",
     "text": [
      "x_data: [[[1. 0. 0. 0.]\n",
      "  [0. 1. 0. 0.]\n",
      "  [0. 0. 1. 0.]\n",
      "  [0. 0. 1. 0.]\n",
      "  [0. 0. 0. 1.]]], shape: (1, 5, 4) \n",
      "\n",
      "outputs: [[[-0.44577113 -0.45457456]\n",
      "  [ 0.16972812  0.40452874]\n",
      "  [ 0.73866075 -0.19238974]\n",
      "  [ 0.5728731   0.51898247]\n",
      "  [ 0.5662095   0.19033885]]], shape: (1, 5, 2) \n",
      "\n",
      "states: [[0.5662095  0.19033885]], shape: (1, 2)\n"
     ]
    }
   ],
   "source": [
    "print('x_data: {}, shape: {} \\n'.format(x_data, x_data.shape))\n",
    "print('outputs: {}, shape: {} \\n'.format(outputs, outputs.shape))\n",
    "print('states: {}, shape: {}'.format(states, states.shape))"
   ]
  },
  {
   "cell_type": "markdown",
   "metadata": {},
   "source": [
    "# Batching"
   ]
  },
  {
   "cell_type": "code",
   "execution_count": 31,
   "metadata": {
    "ExecuteTime": {
     "end_time": "2021-03-04T17:43:06.231354Z",
     "start_time": "2021-03-04T17:43:06.215400Z"
    }
   },
   "outputs": [],
   "source": [
    "x_data = np.array([[h,e,l,l,o],\n",
    "                   [e,o,l,l,l],\n",
    "                   [l,l,e,e,l]],dtype=np.float32)"
   ]
  },
  {
   "cell_type": "code",
   "execution_count": 37,
   "metadata": {
    "ExecuteTime": {
     "end_time": "2021-03-04T17:44:53.576349Z",
     "start_time": "2021-03-04T17:44:53.559422Z"
    }
   },
   "outputs": [],
   "source": [
    "hidden_size = 2\n",
    "rnn = layers.SimpleRNN(units=2 ,return_sequences=True, return_state=True)\n",
    "outputs, states = rnn(x_data)"
   ]
  },
  {
   "cell_type": "code",
   "execution_count": 38,
   "metadata": {
    "ExecuteTime": {
     "end_time": "2021-03-04T17:44:53.954337Z",
     "start_time": "2021-03-04T17:44:53.941372Z"
    }
   },
   "outputs": [
    {
     "name": "stdout",
     "output_type": "stream",
     "text": [
      "x_data: [[[1. 0. 0. 0.]\n",
      "  [0. 1. 0. 0.]\n",
      "  [0. 0. 1. 0.]\n",
      "  [0. 0. 1. 0.]\n",
      "  [0. 0. 0. 1.]]\n",
      "\n",
      " [[0. 1. 0. 0.]\n",
      "  [0. 0. 0. 1.]\n",
      "  [0. 0. 1. 0.]\n",
      "  [0. 0. 1. 0.]\n",
      "  [0. 0. 1. 0.]]\n",
      "\n",
      " [[0. 0. 1. 0.]\n",
      "  [0. 0. 1. 0.]\n",
      "  [0. 1. 0. 0.]\n",
      "  [0. 1. 0. 0.]\n",
      "  [0. 0. 1. 0.]]], shape: (3, 5, 4) \n",
      "\n",
      "outputs: [[[-0.22702853 -0.11145466]\n",
      "  [-0.4940548  -0.2724251 ]\n",
      "  [-0.09476262  0.168072  ]\n",
      "  [ 0.36822638 -0.17729284]\n",
      "  [ 0.13862139  0.24966243]]\n",
      "\n",
      " [[-0.28792375 -0.32909676]\n",
      "  [-0.4883009   0.26226225]\n",
      "  [ 0.02064602 -0.3384754 ]\n",
      "  [ 0.37569115  0.32771802]\n",
      "  [ 0.7062245  -0.23414429]]\n",
      "\n",
      " [[ 0.4173716   0.00479313]\n",
      "  [ 0.6931142   0.08580765]\n",
      "  [ 0.3796346  -0.2757777 ]\n",
      "  [ 0.01843184  0.00620464]\n",
      "  [ 0.43319196  0.00251562]]], shape: (3, 5, 2) \n",
      "\n",
      "states: [[ 0.13862139  0.24966243]\n",
      " [ 0.7062245  -0.23414429]\n",
      " [ 0.43319196  0.00251562]], shape: (3, 2)\n"
     ]
    }
   ],
   "source": [
    "print('x_data: {}, shape: {} \\n'.format(x_data, x_data.shape))\n",
    "print('outputs: {}, shape: {} \\n'.format(outputs, outputs.shape))\n",
    "print('states: {}, shape: {}'.format(states, states.shape))"
   ]
  }
 ],
 "metadata": {
  "kernelspec": {
   "display_name": "simon_env",
   "language": "python",
   "name": "simon_env"
  },
  "language_info": {
   "codemirror_mode": {
    "name": "ipython",
    "version": 3
   },
   "file_extension": ".py",
   "mimetype": "text/x-python",
   "name": "python",
   "nbconvert_exporter": "python",
   "pygments_lexer": "ipython3",
   "version": "3.8.3"
  },
  "toc": {
   "base_numbering": 1,
   "nav_menu": {},
   "number_sections": true,
   "sideBar": true,
   "skip_h1_title": false,
   "title_cell": "Table of Contents",
   "title_sidebar": "Contents",
   "toc_cell": false,
   "toc_position": {},
   "toc_section_display": true,
   "toc_window_display": false
  },
  "varInspector": {
   "cols": {
    "lenName": 16,
    "lenType": 16,
    "lenVar": 40
   },
   "kernels_config": {
    "python": {
     "delete_cmd_postfix": "",
     "delete_cmd_prefix": "del ",
     "library": "var_list.py",
     "varRefreshCmd": "print(var_dic_list())"
    },
    "r": {
     "delete_cmd_postfix": ") ",
     "delete_cmd_prefix": "rm(",
     "library": "var_list.r",
     "varRefreshCmd": "cat(var_dic_list()) "
    }
   },
   "types_to_exclude": [
    "module",
    "function",
    "builtin_function_or_method",
    "instance",
    "_Feature"
   ],
   "window_display": false
  }
 },
 "nbformat": 4,
 "nbformat_minor": 4
}
